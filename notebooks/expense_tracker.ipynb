{
 "cells": [
  {
   "cell_type": "code",
   "execution_count": 4,
   "id": "5fcd5227-a80f-4ac4-94fa-59cda312f47a",
   "metadata": {},
   "outputs": [],
   "source": [
    "# import PyPDF2\n",
    "# import tabula\n",
    "import pandas as pd\n",
    "import datetime\n",
    "import re"
   ]
  },
  {
   "cell_type": "code",
   "execution_count": 2,
   "id": "5ee83493-48a3-47b7-8c25-1e132c22eada",
   "metadata": {},
   "outputs": [],
   "source": [
    "from PyPDF2 import PdfFileReader"
   ]
  },
  {
   "cell_type": "code",
   "execution_count": null,
   "id": "80099ed8-1e27-47a9-b70b-45c4f8bcec18",
   "metadata": {},
   "outputs": [
    {
     "data": {
      "text/plain": [
       "' N236201221531812 '"
      ]
     },
     "execution_count": 120,
     "metadata": {},
     "output_type": "execute_result"
    }
   ],
   "source": [
    "ref_no"
   ]
  },
  {
   "cell_type": "code",
   "execution_count": 23,
   "id": "867dcf9c-ed74-402e-8a1b-c88ce0d59273",
   "metadata": {},
   "outputs": [],
   "source": [
    "df = pd.read_excel('/Users/murtazavahanvaty/Downloads/BankStatement_HDFC_Husein_28022022.xlsx', skiprows=[i for i in range(20)])"
   ]
  },
  {
   "cell_type": "code",
   "execution_count": 53,
   "id": "a08eabe7-53ac-441e-9cae-122936fcc9ea",
   "metadata": {},
   "outputs": [],
   "source": [
    "df = pd.read_csv('/Users/murtazavahanvaty/Downloads/2215163693_statement.csv', skiprows=[i for i in range(12)]).iloc[:,1:-1]"
   ]
  },
  {
   "cell_type": "code",
   "execution_count": 54,
   "id": "39efd17e-4603-432f-801e-b18455fbaa15",
   "metadata": {},
   "outputs": [],
   "source": [
    "df.columns = ['date','value_date','narration','ref_no','amount','dr_or_cr','balance']"
   ]
  },
  {
   "cell_type": "code",
   "execution_count": 62,
   "id": "84a9ff22-7a98-4cdb-a09d-c44bb94bf7f5",
   "metadata": {},
   "outputs": [],
   "source": [
    "df = df.iloc[: df[df.value_date.isna()].index[0]]"
   ]
  },
  {
   "cell_type": "code",
   "execution_count": 63,
   "id": "7479ce23-5f8f-4c3c-8f4f-f69f7bbe84fd",
   "metadata": {},
   "outputs": [
    {
     "data": {
      "text/html": [
       "<div>\n",
       "<style scoped>\n",
       "    .dataframe tbody tr th:only-of-type {\n",
       "        vertical-align: middle;\n",
       "    }\n",
       "\n",
       "    .dataframe tbody tr th {\n",
       "        vertical-align: top;\n",
       "    }\n",
       "\n",
       "    .dataframe thead th {\n",
       "        text-align: right;\n",
       "    }\n",
       "</style>\n",
       "<table border=\"1\" class=\"dataframe\">\n",
       "  <thead>\n",
       "    <tr style=\"text-align: right;\">\n",
       "      <th></th>\n",
       "      <th>date</th>\n",
       "      <th>value_date</th>\n",
       "      <th>narration</th>\n",
       "      <th>ref_no</th>\n",
       "      <th>amount</th>\n",
       "      <th>dr_or_cr</th>\n",
       "      <th>balance</th>\n",
       "    </tr>\n",
       "  </thead>\n",
       "  <tbody>\n",
       "    <tr>\n",
       "      <th>0</th>\n",
       "      <td>04-05-2022</td>\n",
       "      <td>04-05-2022</td>\n",
       "      <td>NEFT N124221943771260 ENVISION ENTERPRISE SOLUTIO</td>\n",
       "      <td>NEFTINW-0404252946</td>\n",
       "      <td>12,398.00</td>\n",
       "      <td>CR</td>\n",
       "      <td>2,35,878.33</td>\n",
       "    </tr>\n",
       "    <tr>\n",
       "      <th>1</th>\n",
       "      <td>04-05-2022</td>\n",
       "      <td>04-05-2022</td>\n",
       "      <td>UPI/ADITYA MOHAPATR/212402657251/UPI</td>\n",
       "      <td>UPI-212426522401</td>\n",
       "      <td>3,150.00</td>\n",
       "      <td>DR</td>\n",
       "      <td>2,32,728.33</td>\n",
       "    </tr>\n",
       "    <tr>\n",
       "      <th>2</th>\n",
       "      <td>05-05-2022</td>\n",
       "      <td>05-05-2022</td>\n",
       "      <td>UPI/ADITI  DUREHA/212523323895/UPI</td>\n",
       "      <td>UPI-212542784672</td>\n",
       "      <td>4,100.00</td>\n",
       "      <td>DR</td>\n",
       "      <td>2,28,628.33</td>\n",
       "    </tr>\n",
       "    <tr>\n",
       "      <th>3</th>\n",
       "      <td>07-05-2022</td>\n",
       "      <td>07-05-2022</td>\n",
       "      <td>UPI/ADITYA MOHAPATR/212754972137/UPI</td>\n",
       "      <td>UPI-212767170334</td>\n",
       "      <td>5,250.00</td>\n",
       "      <td>DR</td>\n",
       "      <td>2,23,378.33</td>\n",
       "    </tr>\n",
       "    <tr>\n",
       "      <th>4</th>\n",
       "      <td>07-05-2022</td>\n",
       "      <td>07-05-2022</td>\n",
       "      <td>PCD/5527/TASMAC 4466/CHENNAI070522/19:21</td>\n",
       "      <td>212713143608</td>\n",
       "      <td>4,030.00</td>\n",
       "      <td>DR</td>\n",
       "      <td>2,19,348.33</td>\n",
       "    </tr>\n",
       "    <tr>\n",
       "      <th>...</th>\n",
       "      <td>...</td>\n",
       "      <td>...</td>\n",
       "      <td>...</td>\n",
       "      <td>...</td>\n",
       "      <td>...</td>\n",
       "      <td>...</td>\n",
       "      <td>...</td>\n",
       "    </tr>\n",
       "    <tr>\n",
       "      <th>110</th>\n",
       "      <td>03-08-2022</td>\n",
       "      <td>03-08-2022</td>\n",
       "      <td>UPI/AADITYA SAXENA/221549403858/UPI</td>\n",
       "      <td>UPI-221581063855</td>\n",
       "      <td>70,000.00</td>\n",
       "      <td>DR</td>\n",
       "      <td>78,351.47</td>\n",
       "    </tr>\n",
       "    <tr>\n",
       "      <th>111</th>\n",
       "      <td>03-08-2022</td>\n",
       "      <td>03-08-2022</td>\n",
       "      <td>UPI/slice/221551964407/slice</td>\n",
       "      <td>UPI-221582920059</td>\n",
       "      <td>27,072.12</td>\n",
       "      <td>DR</td>\n",
       "      <td>51,279.35</td>\n",
       "    </tr>\n",
       "    <tr>\n",
       "      <th>112</th>\n",
       "      <td>03-08-2022</td>\n",
       "      <td>03-08-2022</td>\n",
       "      <td>UPI/MANIKANDAN M/221555484954/UPI</td>\n",
       "      <td>UPI-221585292516</td>\n",
       "      <td>80.00</td>\n",
       "      <td>DR</td>\n",
       "      <td>51,199.35</td>\n",
       "    </tr>\n",
       "    <tr>\n",
       "      <th>113</th>\n",
       "      <td>03-08-2022</td>\n",
       "      <td>03-08-2022</td>\n",
       "      <td>UPI/Mr RAJAVEL S O /221556246108/UPI</td>\n",
       "      <td>UPI-221585796601</td>\n",
       "      <td>200.00</td>\n",
       "      <td>DR</td>\n",
       "      <td>50,999.35</td>\n",
       "    </tr>\n",
       "    <tr>\n",
       "      <th>114</th>\n",
       "      <td>03-08-2022</td>\n",
       "      <td>03-08-2022</td>\n",
       "      <td>NACH-10-CR-TCS1STINTDIV030822-0000000000000099683</td>\n",
       "      <td>NACHDB03082200330458</td>\n",
       "      <td>56.00</td>\n",
       "      <td>CR</td>\n",
       "      <td>51,055.35</td>\n",
       "    </tr>\n",
       "  </tbody>\n",
       "</table>\n",
       "<p>115 rows × 7 columns</p>\n",
       "</div>"
      ],
      "text/plain": [
       "           date  value_date  \\\n",
       "0    04-05-2022  04-05-2022   \n",
       "1    04-05-2022  04-05-2022   \n",
       "2    05-05-2022  05-05-2022   \n",
       "3    07-05-2022  07-05-2022   \n",
       "4    07-05-2022  07-05-2022   \n",
       "..          ...         ...   \n",
       "110  03-08-2022  03-08-2022   \n",
       "111  03-08-2022  03-08-2022   \n",
       "112  03-08-2022  03-08-2022   \n",
       "113  03-08-2022  03-08-2022   \n",
       "114  03-08-2022  03-08-2022   \n",
       "\n",
       "                                             narration                ref_no  \\\n",
       "0    NEFT N124221943771260 ENVISION ENTERPRISE SOLUTIO    NEFTINW-0404252946   \n",
       "1                 UPI/ADITYA MOHAPATR/212402657251/UPI      UPI-212426522401   \n",
       "2                   UPI/ADITI  DUREHA/212523323895/UPI      UPI-212542784672   \n",
       "3                 UPI/ADITYA MOHAPATR/212754972137/UPI      UPI-212767170334   \n",
       "4             PCD/5527/TASMAC 4466/CHENNAI070522/19:21          212713143608   \n",
       "..                                                 ...                   ...   \n",
       "110                UPI/AADITYA SAXENA/221549403858/UPI      UPI-221581063855   \n",
       "111                       UPI/slice/221551964407/slice      UPI-221582920059   \n",
       "112                  UPI/MANIKANDAN M/221555484954/UPI      UPI-221585292516   \n",
       "113               UPI/Mr RAJAVEL S O /221556246108/UPI      UPI-221585796601   \n",
       "114  NACH-10-CR-TCS1STINTDIV030822-0000000000000099683  NACHDB03082200330458   \n",
       "\n",
       "        amount dr_or_cr      balance  \n",
       "0    12,398.00       CR  2,35,878.33  \n",
       "1     3,150.00       DR  2,32,728.33  \n",
       "2     4,100.00       DR  2,28,628.33  \n",
       "3     5,250.00       DR  2,23,378.33  \n",
       "4     4,030.00       DR  2,19,348.33  \n",
       "..         ...      ...          ...  \n",
       "110  70,000.00       DR    78,351.47  \n",
       "111  27,072.12       DR    51,279.35  \n",
       "112      80.00       DR    51,199.35  \n",
       "113     200.00       DR    50,999.35  \n",
       "114      56.00       CR    51,055.35  \n",
       "\n",
       "[115 rows x 7 columns]"
      ]
     },
     "execution_count": 63,
     "metadata": {},
     "output_type": "execute_result"
    }
   ],
   "source": [
    "df"
   ]
  },
  {
   "cell_type": "code",
   "execution_count": 50,
   "id": "fd308366-a6e5-471c-8a74-e2fe70c20a3a",
   "metadata": {},
   "outputs": [
    {
     "data": {
      "text/html": [
       "<div>\n",
       "<style scoped>\n",
       "    .dataframe tbody tr th:only-of-type {\n",
       "        vertical-align: middle;\n",
       "    }\n",
       "\n",
       "    .dataframe tbody tr th {\n",
       "        vertical-align: top;\n",
       "    }\n",
       "\n",
       "    .dataframe thead th {\n",
       "        text-align: right;\n",
       "    }\n",
       "</style>\n",
       "<table border=\"1\" class=\"dataframe\">\n",
       "  <thead>\n",
       "    <tr style=\"text-align: right;\">\n",
       "      <th></th>\n",
       "      <th>Sl. No.</th>\n",
       "      <th>Transaction Date</th>\n",
       "      <th>Value Date</th>\n",
       "      <th>Description</th>\n",
       "      <th>Chq / Ref No.</th>\n",
       "      <th>Amount</th>\n",
       "      <th>Dr / Cr</th>\n",
       "      <th>Balance</th>\n",
       "      <th>Dr / Cr.1</th>\n",
       "    </tr>\n",
       "  </thead>\n",
       "  <tbody>\n",
       "    <tr>\n",
       "      <th>0</th>\n",
       "      <td>1</td>\n",
       "      <td>04-05-2022</td>\n",
       "      <td>04-05-2022</td>\n",
       "      <td>NEFT N124221943771260 ENVISION ENTERPRISE SOLUTIO</td>\n",
       "      <td>NEFTINW-0404252946</td>\n",
       "      <td>12,398.00</td>\n",
       "      <td>CR</td>\n",
       "      <td>2,35,878.33</td>\n",
       "      <td>CR</td>\n",
       "    </tr>\n",
       "    <tr>\n",
       "      <th>1</th>\n",
       "      <td>2</td>\n",
       "      <td>04-05-2022</td>\n",
       "      <td>04-05-2022</td>\n",
       "      <td>UPI/ADITYA MOHAPATR/212402657251/UPI</td>\n",
       "      <td>UPI-212426522401</td>\n",
       "      <td>3,150.00</td>\n",
       "      <td>DR</td>\n",
       "      <td>2,32,728.33</td>\n",
       "      <td>DR</td>\n",
       "    </tr>\n",
       "    <tr>\n",
       "      <th>2</th>\n",
       "      <td>3</td>\n",
       "      <td>05-05-2022</td>\n",
       "      <td>05-05-2022</td>\n",
       "      <td>UPI/ADITI  DUREHA/212523323895/UPI</td>\n",
       "      <td>UPI-212542784672</td>\n",
       "      <td>4,100.00</td>\n",
       "      <td>DR</td>\n",
       "      <td>2,28,628.33</td>\n",
       "      <td>DR</td>\n",
       "    </tr>\n",
       "    <tr>\n",
       "      <th>3</th>\n",
       "      <td>4</td>\n",
       "      <td>07-05-2022</td>\n",
       "      <td>07-05-2022</td>\n",
       "      <td>UPI/ADITYA MOHAPATR/212754972137/UPI</td>\n",
       "      <td>UPI-212767170334</td>\n",
       "      <td>5,250.00</td>\n",
       "      <td>DR</td>\n",
       "      <td>2,23,378.33</td>\n",
       "      <td>DR</td>\n",
       "    </tr>\n",
       "    <tr>\n",
       "      <th>4</th>\n",
       "      <td>5</td>\n",
       "      <td>07-05-2022</td>\n",
       "      <td>07-05-2022</td>\n",
       "      <td>PCD/5527/TASMAC 4466/CHENNAI070522/19:21</td>\n",
       "      <td>212713143608</td>\n",
       "      <td>4,030.00</td>\n",
       "      <td>DR</td>\n",
       "      <td>2,19,348.33</td>\n",
       "      <td>DR</td>\n",
       "    </tr>\n",
       "    <tr>\n",
       "      <th>...</th>\n",
       "      <td>...</td>\n",
       "      <td>...</td>\n",
       "      <td>...</td>\n",
       "      <td>...</td>\n",
       "      <td>...</td>\n",
       "      <td>...</td>\n",
       "      <td>...</td>\n",
       "      <td>...</td>\n",
       "      <td>...</td>\n",
       "    </tr>\n",
       "    <tr>\n",
       "      <th>114</th>\n",
       "      <td>115</td>\n",
       "      <td>03-08-2022</td>\n",
       "      <td>03-08-2022</td>\n",
       "      <td>NACH-10-CR-TCS1STINTDIV030822-0000000000000099683</td>\n",
       "      <td>NACHDB03082200330458</td>\n",
       "      <td>56.00</td>\n",
       "      <td>CR</td>\n",
       "      <td>51,055.35</td>\n",
       "      <td>CR</td>\n",
       "    </tr>\n",
       "    <tr>\n",
       "      <th>115</th>\n",
       "      <td>Opening balance</td>\n",
       "      <td>as on 04/05/2022   INR 2,23,480.33</td>\n",
       "      <td>NaN</td>\n",
       "      <td>NaN</td>\n",
       "      <td>NaN</td>\n",
       "      <td>NaN</td>\n",
       "      <td>NaN</td>\n",
       "      <td>NaN</td>\n",
       "      <td>NaN</td>\n",
       "    </tr>\n",
       "    <tr>\n",
       "      <th>116</th>\n",
       "      <td>Closing balance</td>\n",
       "      <td>as on 04/08/2022   INR 51,055.35</td>\n",
       "      <td>NaN</td>\n",
       "      <td>NaN</td>\n",
       "      <td>NaN</td>\n",
       "      <td>NaN</td>\n",
       "      <td>NaN</td>\n",
       "      <td>NaN</td>\n",
       "      <td>NaN</td>\n",
       "    </tr>\n",
       "    <tr>\n",
       "      <th>117</th>\n",
       "      <td>You may call our 24-hour Customer Contact Cent...</td>\n",
       "      <td>NaN</td>\n",
       "      <td>NaN</td>\n",
       "      <td>NaN</td>\n",
       "      <td>NaN</td>\n",
       "      <td>NaN</td>\n",
       "      <td>NaN</td>\n",
       "      <td>NaN</td>\n",
       "      <td>NaN</td>\n",
       "    </tr>\n",
       "    <tr>\n",
       "      <th>118</th>\n",
       "      <td>Write to us at Customer Contact Centre. Kotak ...</td>\n",
       "      <td>NaN</td>\n",
       "      <td>NaN</td>\n",
       "      <td>NaN</td>\n",
       "      <td>NaN</td>\n",
       "      <td>NaN</td>\n",
       "      <td>NaN</td>\n",
       "      <td>NaN</td>\n",
       "      <td>NaN</td>\n",
       "    </tr>\n",
       "  </tbody>\n",
       "</table>\n",
       "<p>119 rows × 9 columns</p>\n",
       "</div>"
      ],
      "text/plain": [
       "                                               Sl. No.  \\\n",
       "0                                                    1   \n",
       "1                                                    2   \n",
       "2                                                    3   \n",
       "3                                                    4   \n",
       "4                                                    5   \n",
       "..                                                 ...   \n",
       "114                                                115   \n",
       "115                                    Opening balance   \n",
       "116                                    Closing balance   \n",
       "117  You may call our 24-hour Customer Contact Cent...   \n",
       "118  Write to us at Customer Contact Centre. Kotak ...   \n",
       "\n",
       "                       Transaction Date  Value Date  \\\n",
       "0                            04-05-2022  04-05-2022   \n",
       "1                            04-05-2022  04-05-2022   \n",
       "2                            05-05-2022  05-05-2022   \n",
       "3                            07-05-2022  07-05-2022   \n",
       "4                            07-05-2022  07-05-2022   \n",
       "..                                  ...         ...   \n",
       "114                          03-08-2022  03-08-2022   \n",
       "115  as on 04/05/2022   INR 2,23,480.33         NaN   \n",
       "116    as on 04/08/2022   INR 51,055.35         NaN   \n",
       "117                                 NaN         NaN   \n",
       "118                                 NaN         NaN   \n",
       "\n",
       "                                           Description         Chq / Ref No.  \\\n",
       "0    NEFT N124221943771260 ENVISION ENTERPRISE SOLUTIO    NEFTINW-0404252946   \n",
       "1                 UPI/ADITYA MOHAPATR/212402657251/UPI      UPI-212426522401   \n",
       "2                   UPI/ADITI  DUREHA/212523323895/UPI      UPI-212542784672   \n",
       "3                 UPI/ADITYA MOHAPATR/212754972137/UPI      UPI-212767170334   \n",
       "4             PCD/5527/TASMAC 4466/CHENNAI070522/19:21          212713143608   \n",
       "..                                                 ...                   ...   \n",
       "114  NACH-10-CR-TCS1STINTDIV030822-0000000000000099683  NACHDB03082200330458   \n",
       "115                                                NaN                   NaN   \n",
       "116                                                NaN                   NaN   \n",
       "117                                                NaN                   NaN   \n",
       "118                                                NaN                   NaN   \n",
       "\n",
       "        Amount Dr / Cr      Balance Dr / Cr.1  \n",
       "0    12,398.00      CR  2,35,878.33        CR  \n",
       "1     3,150.00      DR  2,32,728.33        DR  \n",
       "2     4,100.00      DR  2,28,628.33        DR  \n",
       "3     5,250.00      DR  2,23,378.33        DR  \n",
       "4     4,030.00      DR  2,19,348.33        DR  \n",
       "..         ...     ...          ...       ...  \n",
       "114      56.00      CR    51,055.35        CR  \n",
       "115        NaN     NaN          NaN       NaN  \n",
       "116        NaN     NaN          NaN       NaN  \n",
       "117        NaN     NaN          NaN       NaN  \n",
       "118        NaN     NaN          NaN       NaN  \n",
       "\n",
       "[119 rows x 9 columns]"
      ]
     },
     "execution_count": 50,
     "metadata": {},
     "output_type": "execute_result"
    }
   ],
   "source": [
    "df.columns = "
   ]
  },
  {
   "cell_type": "code",
   "execution_count": 24,
   "id": "dd8dedd9-79b2-4261-9f3b-4c8fa1d5955e",
   "metadata": {},
   "outputs": [],
   "source": [
    "df = df.iloc[1:,:].reset_index(drop=True)"
   ]
  },
  {
   "cell_type": "code",
   "execution_count": 26,
   "id": "a7d1f99b-b4ea-452d-a975-8f32a09c52a8",
   "metadata": {},
   "outputs": [],
   "source": [
    "selected_rows = df[df.isnull().all(axis=1)]"
   ]
  },
  {
   "cell_type": "code",
   "execution_count": 33,
   "id": "444ee745-972e-4c9e-b1dc-3a66e9825c3c",
   "metadata": {},
   "outputs": [],
   "source": [
    "df = df.iloc[0: selected_rows.index[0]]"
   ]
  },
  {
   "cell_type": "code",
   "execution_count": 40,
   "id": "9aced942-7530-4f90-90ce-99e1d32e2645",
   "metadata": {},
   "outputs": [],
   "source": [
    "df.columns = ['date', 'narration','ref_no','value_date','withdrawal_amount','deposit_amount','closing_balance']"
   ]
  },
  {
   "cell_type": "code",
   "execution_count": 46,
   "id": "516c9f9e-ef8f-4122-9c14-0f050d9e2a91",
   "metadata": {},
   "outputs": [
    {
     "data": {
      "text/plain": [
       "True"
      ]
     },
     "execution_count": 46,
     "metadata": {},
     "output_type": "execute_result"
    }
   ],
   "source": [
    "pd.isnull(df.iloc[0].loc['deposit_amount'])"
   ]
  },
  {
   "cell_type": "code",
   "execution_count": 9,
   "id": "8be59a37-b3e3-4826-9d4e-afdb2f261832",
   "metadata": {
    "tags": []
   },
   "outputs": [
    {
     "name": "stdout",
     "output_type": "stream",
     "text": [
      "3\n"
     ]
    }
   ],
   "source": [
    "# importing required modules\n",
    "from PyPDF2 import PdfReader\n",
    " \n",
    "# creating a pdf file object\n",
    "pdfFileObj = open('./file-1660137838925.pdf', 'rb')\n",
    " \n",
    "# creating a pdf reader object\n",
    "pdfReader = PdfFileReader(pdfFileObj)\n",
    " \n",
    "# printing number of pages in pdf file\n",
    "print(pdfReader.numPages)\n",
    " \n",
    "# creating a page object\n",
    "doc = []\n",
    "old_closing_balance = 0\n",
    "ref_no_regex = re.compile('\\s[a-zA-Z0-9]{15,16}\\s')\n",
    "for page_number in range(pdfReader.numPages):\n",
    "    pageObj = pdfReader.getPage(page_number)\n",
    "\n",
    "    text = pageObj.extractText()\n",
    "    break\n",
    "    text = text.split('\\n')\n",
    "    for idx, sentence in enumerate(text):\n",
    "        if 'Page No .: ' in sentence:\n",
    "            text = text[0:idx]\n",
    "        elif 'STATEMENT SUMMARY :-' in sentence:\n",
    "            text = text[0:idx]\n",
    "    for idx, sentence in enumerate(text):\n",
    "        try:\n",
    "            #This is the start of a new narration\n",
    "            date = datetime.datetime.strptime(sentence[0:8], '%d/%m/%y')\n",
    "        except:\n",
    "            #This is a continuation of an older narration and has already been handled\n",
    "            continue\n",
    "        closing_balance = float(sentence.split(' ')[-1].replace(',',''))\n",
    "        amount = float(sentence.split(' ')[-2].replace(',',''))\n",
    "        if closing_balance <= old_closing_balance:\n",
    "            amount = -amount\n",
    "            transaction_name = 'Expense'\n",
    "        else:\n",
    "            transaction_name = 'Income'\n",
    "        old_closing_balance = closing_balance\n",
    "        r = ref_no_regex.search(sentence)\n",
    "        narration = sentence[9:r.start()]\n",
    "        ref_no = sentence[r.start():r.end()]\n",
    "    #     Find if next sentence is a continuation of an older narration or start of new narration\n",
    "        new_index = idx+1\n",
    "        new_ref_no = ref_no\n",
    "        while (new_index < len(text)):\n",
    "            try:\n",
    "                new_date = datetime.datetime.strptime(text[new_index][0:8], '%d/%m/%y')\n",
    "                break\n",
    "            except:\n",
    "                narration += text[new_index]\n",
    "                new_index = new_index+1\n",
    "        doc.append({\"date\": date, \n",
    "                                        \"narration\": narration,\n",
    "                                        \"amount\": amount,\n",
    "                                        \"transaction_name\": transaction_name,\n",
    "                                        \"closing_balance\": closing_balance\n",
    "                                        })\n",
    "\n",
    "    # doc.append(page_text)\n",
    "    \n",
    " \n",
    "# closing the pdf file object\n",
    "pdfFileObj.close()"
   ]
  },
  {
   "cell_type": "code",
   "execution_count": 13,
   "id": "0e2ee694-2492-4003-9559-941666fd30e9",
   "metadata": {},
   "outputs": [
    {
     "data": {
      "text/plain": [
       "0"
      ]
     },
     "execution_count": 13,
     "metadata": {},
     "output_type": "execute_result"
    }
   ],
   "source": [
    "page_number"
   ]
  },
  {
   "cell_type": "code",
   "execution_count": 11,
   "id": "8003c0a2-4935-4a89-a70a-266a93274930",
   "metadata": {},
   "outputs": [
    {
     "data": {
      "text/plain": [
       "'Account No.\\nPeriodCust. Reln. No.\\nCurrency695010047527\\nFrom 01/04/2022 To 10/08/2022IKHLAQUE AHMED RIYAZ AHMED MANER\\n36719532\\nMUMBRAKHARDI RD, NR RAHIMIYA MASJIDB 101, AL HUDAIBIYA TOWER\\nMAHARASHTRA\\nINDIA\\n400612Thane\\nY\\nGULNAZ IKHLAQUE MANERINR\\nMUMBAI - LOWER PAREL Branch\\nNominee NameNomination Regd\\nJoint Holder(S)\\nChq / Ref number Dr / Cr Amount Description Balance Dr / Cr Date Sl. No.\\n1NACH-10-DR-HDFCLTD-\\n319543247NACHDB10082200351152 DR 25,000.0010/08/2022CR 3,921.24\\n2UPI/IKHLAQUE AHMED\\n/221542536927/Payment\\nfrom PhUPI-221590680371 CR 25,000.0003/08/2022CR 28,921.24\\n3UPI/DANIYA  RIYAZ\\nM/220935353369/UPIUPI-220993158051 CR 500.0028/07/2022CR 3,921.24\\n4UPI/Miss DANIYA\\nRIY/220815918726/cash\\ngivenUPI-220867926354 CR 800.0027/07/2022CR 3,421.24\\n5UPI/DANIYA SYED\\nAHM/220672653302/cash\\ngivenUPI-220642805373 CR 500.0025/07/2022CR 2,621.24\\n6UPI/NITIN HARIBHAU\\n/220533879762/Send\\nPaymentUPI-220524539395 DR 1,500.0024/07/2022CR 2,121.24\\n7UPI/UBER INDIA\\nSYST/220544386475/UberRi\\ndeUPI-220520343522 DR 313.0024/07/2022CR 3,621.24\\n8NACH-10-DR-HDFCLTD-\\n316811526NACHDB10072200017292 DR 25,000.0010/07/2022CR 3,934.24\\n9UPI/MOHD NASEEM\\nANS/219067980131/milkUPI-219003516038 DR 260.0009/07/2022CR 28,934.24\\n10UPI/Fashion\\nWorld/219057595973/raincoa\\ntUPI-219095534527 DR 500.0009/07/2022CR 29,194.24\\n11UPI/DHANESH\\nNAVNATH/219056135162/U\\nPIUPI-219094397576 DR 350.0009/07/2022CR 29,694.24\\n12Recd:IMPS/218219471455/IK\\nHLAQUE\\nA/KKBK/X9898/homeIMPS-218219855848 CR 25,000.0001/07/2022CR 30,044.24\\n13Int.Pd:695010047527:01-04-\\n2022 to 30-06-2022CR 120.0030/06/2022CR 5,044.24\\n14ATL/1391/504439/+NASHEM\\nAN CLNY,\\nKAUSA,260622/11:485771 DR 1,000.0026/06/2022CR 4,924.24\\n15Chrg: Weekly Bal Alerts\\ncharges for May-22TBMS-983029085 DR 2.9525/06/2022CR 5,924.24Account Statement'"
      ]
     },
     "execution_count": 11,
     "metadata": {},
     "output_type": "execute_result"
    }
   ],
   "source": [
    "text"
   ]
  },
  {
   "cell_type": "code",
   "execution_count": 131,
   "id": "c67cbe2d-8572-4d9b-9419-4ac9a55739c7",
   "metadata": {},
   "outputs": [
    {
     "data": {
      "text/plain": [
       "9"
      ]
     },
     "execution_count": 131,
     "metadata": {},
     "output_type": "execute_result"
    }
   ],
   "source": [
    "new_index"
   ]
  },
  {
   "cell_type": "code",
   "execution_count": 130,
   "id": "9c4ab9df-0705-4460-93ac-b6b4432f7428",
   "metadata": {},
   "outputs": [
    {
     "data": {
      "text/plain": [
       "9"
      ]
     },
     "execution_count": 130,
     "metadata": {},
     "output_type": "execute_result"
    }
   ],
   "source": [
    "len(text)"
   ]
  },
  {
   "cell_type": "code",
   "execution_count": 13,
   "id": "086d678b-dbd6-4cc2-ae2f-6093bd863789",
   "metadata": {},
   "outputs": [],
   "source": [
    "regex = re.compile('\\\\n\\d{1,5}\\\\s')\n",
    "text = regex.split(text)"
   ]
  },
  {
   "cell_type": "code",
   "execution_count": 23,
   "id": "29123c2b-6b12-439b-bd86-47c125adbf49",
   "metadata": {},
   "outputs": [],
   "source": [
    "pdfFileObj = open('/Users/murtazavahanvaty/Downloads/Acct Statement_XX7415_13022022.pdf', 'rb')"
   ]
  },
  {
   "cell_type": "code",
   "execution_count": 25,
   "id": "71d399b0-74cc-4b24-ac9d-30230f95812a",
   "metadata": {},
   "outputs": [],
   "source": [
    "pdfReader = PdfFileReader(pdfFileObj)"
   ]
  },
  {
   "cell_type": "code",
   "execution_count": 113,
   "id": "f667a1ac-957a-45dd-ad12-409bd80e6ae5",
   "metadata": {},
   "outputs": [],
   "source": [
    "doc = []"
   ]
  },
  {
   "cell_type": "code",
   "execution_count": 115,
   "id": "91c6594f-f0d8-40eb-b316-1666dec5ea34",
   "metadata": {},
   "outputs": [],
   "source": [
    "pageObj = pdfReader.getPage(1)\n",
    "text = pageObj.extractText()"
   ]
  },
  {
   "cell_type": "code",
   "execution_count": 116,
   "id": "29022949-9a7d-4d13-a00d-641e5a82343c",
   "metadata": {},
   "outputs": [
    {
     "name": "stdout",
     "output_type": "stream",
     "text": [
      "01/06/20 NEFT CR-ICIC0SF0002-DEVISH GNANESH GALA 0000001998714989 01/06/20 1,000.00 52,695.96\n",
      "JT1-MV-1998714989\n",
      "01/06/20 NEFT CR-UTIB0000848-GUNJAN ISHWARLAL NAV AXIR201537084412 01/06/20 2,400.00 55,095.96\n",
      "ADIYA-MURTAZA H VAHANVATY-AXIR2015370844\n",
      "12\n",
      "01/06/20 00111530001485 -TPT-EXPENSES-SIDDHARTHA 0000000112844871 01/06/20 1,500.00 56,595.96\n",
      "GANESH\n",
      "09/06/20 NEFT CR-UTIB0000848-GUNJAN ISHWARLAL NAV AXIR201610435969 09/06/20 3,500.00 60,095.96\n",
      "ADIYA-MURTAZA H VAHANVATY-AXIR2016104359\n",
      "69\n",
      "17/06/20 CASH DEPOSIT-XXXXXXXXXX7415-NERUL WEST 0000000000000399 17/06/20 15,000.00 75,095.96\n",
      "17/06/20 UPI-ABHIMANYU KUMAR SING-SINGHABHIMANYU8 0000016918727074 17/06/20 600.00 75,695.96\n",
      "6934@OKICICI-ICIC0000564-016918084380-UP\n",
      "I\n",
      "24/06/20 50100290695979-TPT-WALKIE TALKIE-AATASH 0000000137004080 24/06/20 2,800.00 72,895.96\n",
      "PATEL\n",
      "30/06/20 3ABK39KL1CI65YNQZD/AMAZONSELLER 0000201829766499 01/07/20 813.00 72,082.96\n",
      "30/06/20 IB FUNDS TRANSFER CR-04231000044507-HUSE BM01820181586979 01/07/20 813.00 72,895.96\n",
      "IN HAMZA VAHANVATY\n",
      "01/07/20 CREDIT INTEREST CAPITALISED 000000000000000 30/06/20 240.00 73,135.96\n",
      "03/08/20 NEFT DR-SYNB0005026-JENNIFER B PANCHAL-N N216201203558820 03/08/20 930.00 72,205.96\n",
      "ETBANK, MUM-N216201203558820-JENI BOA\n",
      "03/08/20 IB FUNDS TRANSFER CR-04231000044507-HUSE BM02160223535728 03/08/20 930.00 73,135.96\n",
      "IN HAMZA VAHANVATY\n",
      "07/08/20 2MMUKKLQ96H6JIZUG6/AMAZONSELLER 0000202207144636 07/08/20 999.00 72,136.96\n",
      "07/08/20 IB FUNDS TRANSFER CR-04231000044507-HUSE BM02200418583900 07/08/20 999.00 73,135.96\n",
      "IN HAMZA VAHANVATY\n",
      "20/08/20 50200026094527-TPT-TLL COMPLAINCES-YUVA 0000000295411802 20/08/20 10,000.00 63,135.96\n",
      "WELFARE ASSOCIATION OF INDIA\n",
      "23/08/20 NEFT DR-SYNB0005026-JENNIFER B PANCHAL-N N236201221531812 24/08/20 490.00 62,645.96\n",
      "ETBANK, MUM-N236201221531812-JENI PASAND\n"
     ]
    }
   ],
   "source": [
    "text = text.split('\\n')\n",
    "old_closing_balance = 0\n",
    "ref_no_regex = re.compile('\\s[a-zA-Z0-9]{15,16}\\s')\n",
    "for idx, sentence in enumerate(text):\n",
    "    if 'Page No .: ' in sentence:\n",
    "        text = text[0:idx]\n",
    "for idx, sentence in enumerate(text):\n",
    "    print(sentence)\n",
    "    try:\n",
    "        #This is the start of a new narration\n",
    "        date = datetime.datetime.strptime(sentence[0:8], '%d/%m/%y')\n",
    "    except:\n",
    "        #This is a continuation of an older narration and has already been handled\n",
    "        continue\n",
    "    closing_balance = float(sentence.split(' ')[-1].replace(',',''))\n",
    "    amount = float(sentence.split(' ')[-2].replace(',',''))\n",
    "    if closing_balance <= old_closing_balance:\n",
    "        amount = -amount\n",
    "        transaction_name = 'Expense'\n",
    "    else:\n",
    "        transaction_name = 'Income'\n",
    "    old_closing_balance = closing_balance\n",
    "    r = ref_no_regex.search(sentence)\n",
    "    narration = sentence[9:r.start()]\n",
    "    ref_no = sentence[r.start():r.end()]\n",
    "#     Find if next sentence is a continuation of an older narration or start of new narration\n",
    "    new_index = idx+1\n",
    "    new_ref_no = ref_no\n",
    "    while (ref_no == new_ref_no) & (new_index < len(text)):\n",
    "        try:\n",
    "            new_date = datetime.datetime.strptime(text[new_index][0:8], '%d/%m/%y')\n",
    "            r_new = ref_no_regex.search(text[new_index])\n",
    "            new_ref_no = text[new_index][r_new.start():r_new.end()]\n",
    "        except:\n",
    "            narration += text[new_index]\n",
    "            new_index = new_index+1\n",
    "    doc.append({\"date\": date, \n",
    "                                    \"narration\": narration,\n",
    "                                    \"amount\": amount,\n",
    "                                    \"transaction_name\": transaction_name,\n",
    "                                    \"closing_balance\": closing_balance\n",
    "                                    })"
   ]
  },
  {
   "cell_type": "code",
   "execution_count": 117,
   "id": "3ef76f81-34ff-406f-b813-ea3af56d87ef",
   "metadata": {},
   "outputs": [
    {
     "data": {
      "text/plain": [
       "[{'date': datetime.datetime(2020, 6, 1, 0, 0),\n",
       "  'narration': 'NEFT CR-ICIC0SF0002-DEVISH GNANESH GALAJT1-MV-1998714989',\n",
       "  'amount': 1000.0,\n",
       "  'transaction_name': 'Income',\n",
       "  'closing_balance': 52695.96},\n",
       " {'date': datetime.datetime(2020, 6, 1, 0, 0),\n",
       "  'narration': 'NEFT CR-UTIB0000848-GUNJAN ISHWARLAL NAVADIYA-MURTAZA H VAHANVATY-AXIR201537084412',\n",
       "  'amount': 2400.0,\n",
       "  'transaction_name': 'Income',\n",
       "  'closing_balance': 55095.96},\n",
       " {'date': datetime.datetime(2020, 6, 1, 0, 0),\n",
       "  'narration': '00111530001485 -TPT-EXPENSES-SIDDHARTHAGANESH',\n",
       "  'amount': 1500.0,\n",
       "  'transaction_name': 'Income',\n",
       "  'closing_balance': 56595.96},\n",
       " {'date': datetime.datetime(2020, 6, 9, 0, 0),\n",
       "  'narration': 'NEFT CR-UTIB0000848-GUNJAN ISHWARLAL NAVADIYA-MURTAZA H VAHANVATY-AXIR201610435969',\n",
       "  'amount': 3500.0,\n",
       "  'transaction_name': 'Income',\n",
       "  'closing_balance': 60095.96},\n",
       " {'date': datetime.datetime(2020, 6, 17, 0, 0),\n",
       "  'narration': 'CASH DEPOSIT-XXXXXXXXXX7415-NERUL WEST',\n",
       "  'amount': 15000.0,\n",
       "  'transaction_name': 'Income',\n",
       "  'closing_balance': 75095.96},\n",
       " {'date': datetime.datetime(2020, 6, 17, 0, 0),\n",
       "  'narration': 'UPI-ABHIMANYU KUMAR SING-SINGHABHIMANYU86934@OKICICI-ICIC0000564-016918084380-UPI',\n",
       "  'amount': 600.0,\n",
       "  'transaction_name': 'Income',\n",
       "  'closing_balance': 75695.96},\n",
       " {'date': datetime.datetime(2020, 6, 24, 0, 0),\n",
       "  'narration': '50100290695979-TPT-WALKIE TALKIE-AATASHPATEL',\n",
       "  'amount': -2800.0,\n",
       "  'transaction_name': 'Expense',\n",
       "  'closing_balance': 72895.96},\n",
       " {'date': datetime.datetime(2020, 6, 30, 0, 0),\n",
       "  'narration': '3ABK39KL1CI65YNQZD/AMAZONSELLER',\n",
       "  'amount': -813.0,\n",
       "  'transaction_name': 'Expense',\n",
       "  'closing_balance': 72082.96},\n",
       " {'date': datetime.datetime(2020, 6, 30, 0, 0),\n",
       "  'narration': 'IB FUNDS TRANSFER CR-04231000044507-HUSEIN HAMZA VAHANVATY',\n",
       "  'amount': 813.0,\n",
       "  'transaction_name': 'Income',\n",
       "  'closing_balance': 72895.96},\n",
       " {'date': datetime.datetime(2020, 7, 1, 0, 0),\n",
       "  'narration': 'CREDIT INTEREST CAPITALISED',\n",
       "  'amount': 240.0,\n",
       "  'transaction_name': 'Income',\n",
       "  'closing_balance': 73135.96},\n",
       " {'date': datetime.datetime(2020, 8, 3, 0, 0),\n",
       "  'narration': 'NEFT DR-SYNB0005026-JENNIFER B PANCHAL-NETBANK, MUM-N216201203558820-JENI BOA',\n",
       "  'amount': -930.0,\n",
       "  'transaction_name': 'Expense',\n",
       "  'closing_balance': 72205.96},\n",
       " {'date': datetime.datetime(2020, 8, 3, 0, 0),\n",
       "  'narration': 'IB FUNDS TRANSFER CR-04231000044507-HUSEIN HAMZA VAHANVATY',\n",
       "  'amount': 930.0,\n",
       "  'transaction_name': 'Income',\n",
       "  'closing_balance': 73135.96},\n",
       " {'date': datetime.datetime(2020, 8, 7, 0, 0),\n",
       "  'narration': '2MMUKKLQ96H6JIZUG6/AMAZONSELLER',\n",
       "  'amount': -999.0,\n",
       "  'transaction_name': 'Expense',\n",
       "  'closing_balance': 72136.96},\n",
       " {'date': datetime.datetime(2020, 8, 7, 0, 0),\n",
       "  'narration': 'IB FUNDS TRANSFER CR-04231000044507-HUSEIN HAMZA VAHANVATY',\n",
       "  'amount': 999.0,\n",
       "  'transaction_name': 'Income',\n",
       "  'closing_balance': 73135.96},\n",
       " {'date': datetime.datetime(2020, 8, 20, 0, 0),\n",
       "  'narration': '50200026094527-TPT-TLL COMPLAINCES-YUVAWELFARE ASSOCIATION OF INDIA',\n",
       "  'amount': -10000.0,\n",
       "  'transaction_name': 'Expense',\n",
       "  'closing_balance': 63135.96},\n",
       " {'date': datetime.datetime(2020, 8, 23, 0, 0),\n",
       "  'narration': 'NEFT DR-SYNB0005026-JENNIFER B PANCHAL-NETBANK, MUM-N236201221531812-JENI PASAND',\n",
       "  'amount': -490.0,\n",
       "  'transaction_name': 'Expense',\n",
       "  'closing_balance': 62645.96}]"
      ]
     },
     "execution_count": 117,
     "metadata": {},
     "output_type": "execute_result"
    }
   ],
   "source": [
    "doc"
   ]
  },
  {
   "cell_type": "code",
   "execution_count": 99,
   "id": "a57f542f-3d4e-4af8-b964-28cbb9a02f83",
   "metadata": {},
   "outputs": [
    {
     "data": {
      "text/plain": [
       "'01/07/20 CREDIT INTEREST CAPITALISED 000000000000000 30/06/20 240.00 73,135.96'"
      ]
     },
     "execution_count": 99,
     "metadata": {},
     "output_type": "execute_result"
    }
   ],
   "source": [
    "sentence"
   ]
  },
  {
   "cell_type": "code",
   "execution_count": 58,
   "id": "b11b9235-1b90-4e22-98ab-995041ffaf0e",
   "metadata": {},
   "outputs": [],
   "source": [
    "ref_no_regex = re.compile('[a-zA-Z0-9]{16}')"
   ]
  },
  {
   "cell_type": "code",
   "execution_count": 59,
   "id": "2248a362-fde6-43ce-a963-1bb38ab34987",
   "metadata": {},
   "outputs": [],
   "source": [
    "r = ref_no_regex.search(sentence)"
   ]
  },
  {
   "cell_type": "code",
   "execution_count": 60,
   "id": "1aa7126c-7d70-44b2-83f9-869148f91437",
   "metadata": {},
   "outputs": [
    {
     "data": {
      "text/plain": [
       "'NEFT CR-ICIC0SF0002-DEVISH GNANESH GALA '"
      ]
     },
     "execution_count": 60,
     "metadata": {},
     "output_type": "execute_result"
    }
   ],
   "source": [
    "sentence[9:r.start()]"
   ]
  },
  {
   "cell_type": "code",
   "execution_count": 52,
   "id": "f6318b5e-cc3c-4118-bbf0-bcfbc6c2b991",
   "metadata": {},
   "outputs": [
    {
     "data": {
      "text/plain": [
       "'01/06/20 NEFT CR-ICIC0SF0002-DEVISH GNANESH GALA 0000001998714989 01/06/20 1,000.00 52,695.96'"
      ]
     },
     "execution_count": 52,
     "metadata": {},
     "output_type": "execute_result"
    }
   ],
   "source": [
    "sentence"
   ]
  },
  {
   "cell_type": "code",
   "execution_count": 51,
   "id": "b596d20e-0006-4f7d-b656-4a7d16dbbf43",
   "metadata": {},
   "outputs": [
    {
     "data": {
      "text/plain": [
       "datetime.datetime(2020, 6, 1, 0, 0)"
      ]
     },
     "execution_count": 51,
     "metadata": {},
     "output_type": "execute_result"
    }
   ],
   "source": [
    "datetime.datetime.strptime(sentence[0:8], '%d/%m/%y')"
   ]
  },
  {
   "cell_type": "code",
   "execution_count": 301,
   "id": "a535246c-ab41-40b5-8caf-4b662682f9b1",
   "metadata": {},
   "outputs": [],
   "source": [
    "regex = re.compile('\\\\n\\d{1,5}\\\\s')"
   ]
  },
  {
   "cell_type": "code",
   "execution_count": 302,
   "id": "c984dd11-67ba-4892-826f-e63fced76204",
   "metadata": {},
   "outputs": [
    {
     "data": {
      "text/plain": [
       "['Account StatementAccount # 5112453515 SAVINGS\\nBranch ALTAMOUNT ROAD MUMBAI',\n",
       " 'Apr 2021 - 16 Mar 2022\\nAman Ashok Maroo\\nCRN XXXXXX462\\n1,Chellaraam House, Carmichael\\nRoad, Off, Peddar Road, Pedda\\nr Road Mumbai\\nMumbai - 400026Nominee registered Aarushi  Maroo\\n# TRANSACTION TRANSACTION DETAILS CHQ / REF NO. DEBIT(₹) CREDIT(₹) BALANCE(₹)',\n",
       " '01 Apr 2021\\n08:37 PMUPI/Pravinbahi\\nhira/109120193228/accountsUPI-109120091639 -150.00 34,000.70',\n",
       " '02 Apr 2021\\n09:47 PMMB:TRANSFER MB-999287966182 -19,000.00 15,000.70',\n",
       " '02 Apr 2021\\n10:57 PMReceived from Mr.  XX6184 IMPS IDFC BANK IMPS-\\n109222940068+50.00 15,050.70',\n",
       " '02 Apr 2021\\n10:58 PMMB:TRANSFER MB-999287944675 -20.00 15,030.70',\n",
       " '02 Apr 2021\\n10:59 PMUPI/SHEEFA JALAL GI/109222657123/UPI UPI-109222409554 -1.00 15,029.70',\n",
       " '03 Apr 2021\\n11:00 AMUPI/KUNAL BHARTIYA\\n/109311102427/thanksUPI-109311719926 +10,000.00 25,029.70',\n",
       " '03 Apr 2021\\n11:17 AMUPI/KRISH SUNIL GAM/109311363859/final UPI-109311907069 -7,000.00 18,029.70',\n",
       " '03 Apr 2021\\n11:17 AMUPI/ZOHA CASTELINO/109311376235/final UPI-109311911298 -1,000.00 17,029.70',\n",
       " '03 Apr 2021\\n08:18 PMReceived from Mr.  XX6184 IMPS IDFC BANK IMPS-\\n109320997385+5,000.00 22,029.70',\n",
       " '03 Apr 2021\\n08:19 PMUPI/SUMAN KUMAR THA/109320497719/hi UPI-109320482779 -175.00 21,854.70',\n",
       " '04 Apr 2021\\n02:40 PMUPI/HITHA PARSHVA B/109414136700/a UPI-109414073062 -400.00 21,454.70',\n",
       " '04 Apr 2021\\n04:49 PMUPI/SHAILESH\\nSHIVAJ/109416908885/accountsUPI-109416164897 -100.00 21,354.70',\n",
       " '04 Apr 2021\\n05:50 PMUPI/RAVISH SRI\\nCHAN/109417322268/accountsUPI-109417787371 -2,500.00 18,854.70',\n",
       " '05 Apr 2021\\n12:18 PMUPI/HIMANSHU\\nRAKESH/109512055163/finalUPI-109512589622 -4,625.00 14,229.70',\n",
       " '05 Apr 2021\\n12:22 PMUPI/ZOHA CASTELINO/109512193345/acc UPI-109512635749 -2,100.00 12,129.70\\nOPENING 34,150.70\\nStatement generated on 16 Mar 2022, 12:01 AM Page 1 of',\n",
       " '']"
      ]
     },
     "execution_count": 302,
     "metadata": {},
     "output_type": "execute_result"
    }
   ],
   "source": [
    "regex.split(text)"
   ]
  },
  {
   "cell_type": "code",
   "execution_count": 229,
   "id": "cfd7bd7b-39a3-44e2-953e-426cbd6aa1a5",
   "metadata": {},
   "outputs": [
    {
     "data": {
      "text/plain": [
       "'03 Apr 2021\\n08:18 PMReceived from Mr.  XX6184 IMPS IDFC BANK IMPS-\\n109320997385+5,000.00 22,029.70'"
      ]
     },
     "execution_count": 229,
     "metadata": {},
     "output_type": "execute_result"
    }
   ],
   "source": [
    "word"
   ]
  },
  {
   "cell_type": "code",
   "execution_count": 232,
   "id": "6a596d9a-f58a-4099-a841-3b8211784863",
   "metadata": {},
   "outputs": [
    {
     "data": {
      "text/plain": [
       "'5,00'"
      ]
     },
     "execution_count": 232,
     "metadata": {},
     "output_type": "execute_result"
    }
   ],
   "source": [
    "word[r.start():r.end()].replace('+','')"
   ]
  },
  {
   "cell_type": "code",
   "execution_count": 212,
   "id": "087dd9ad-4bf3-4fb5-8080-7d656920f1f7",
   "metadata": {},
   "outputs": [
    {
     "data": {
      "text/plain": [
       "['Apr 2021 - 16 Mar 2022\\nAman Ashok Maroo\\nCRN XXXXXX462\\n1,Chellaraam House, Carmichael\\nRoad, Off, Peddar Road, Pedda\\nr Road Mumbai\\nMumbai - 400026Nominee registered Aarushi  Maroo\\n# TRANSACTION TRANSACTION DETAILS CHQ / REF NO. DEBIT(₹) CREDIT(₹) BALANCE(₹)',\n",
       " '01 Apr 2021\\n08:37 PMUPI/Pravinbahi\\nhira/109120193228/accountsUPI-109120091639 -150.00 34,000.70',\n",
       " '02 Apr 2021\\n09:47 PMMB:TRANSFER MB-999287966182 -19,000.00 15,000.70',\n",
       " '02 Apr 2021\\n10:57 PMReceived from Mr.  XX6184 IMPS IDFC BANK IMPS-\\n109222940068+50.00 15,050.70',\n",
       " '02 Apr 2021\\n10:58 PMMB:TRANSFER MB-999287944675 -20.00 15,030.70',\n",
       " '02 Apr 2021\\n10:59 PMUPI/SHEEFA JALAL GI/109222657123/UPI UPI-109222409554 -1.00 15,029.70',\n",
       " '03 Apr 2021\\n11:00 AMUPI/KUNAL BHARTIYA\\n/109311102427/thanksUPI-109311719926 +10,000.00 25,029.70',\n",
       " '03 Apr 2021\\n11:17 AMUPI/KRISH SUNIL GAM/109311363859/final UPI-109311907069 -7,000.00 18,029.70',\n",
       " '03 Apr 2021\\n11:17 AMUPI/ZOHA CASTELINO/109311376235/final UPI-109311911298 -1,000.00 17,029.70',\n",
       " '03 Apr 2021\\n08:18 PMReceived from Mr.  XX6184 IMPS IDFC BANK IMPS-\\n109320997385+5,000.00 22,029.70',\n",
       " '03 Apr 2021\\n08:19 PMUPI/SUMAN KUMAR THA/109320497719/hi UPI-109320482779 -175.00 21,854.70',\n",
       " '04 Apr 2021\\n02:40 PMUPI/HITHA PARSHVA B/109414136700/a UPI-109414073062 -400.00 21,454.70',\n",
       " '04 Apr 2021\\n04:49 PMUPI/SHAILESH\\nSHIVAJ/109416908885/accountsUPI-109416164897 -100.00 21,354.70',\n",
       " '04 Apr 2021\\n05:50 PMUPI/RAVISH SRI\\nCHAN/109417322268/accountsUPI-109417787371 -2,500.00 18,854.70',\n",
       " '05 Apr 2021\\n12:18 PMUPI/HIMANSHU\\nRAKESH/109512055163/finalUPI-109512589622 -4,625.00 14,229.70',\n",
       " '05 Apr 2021\\n12:22 PMUPI/ZOHA CASTELINO/109512193345/acc UPI-109512635749 -2,100.00 12,129.70']"
      ]
     },
     "execution_count": 212,
     "metadata": {},
     "output_type": "execute_result"
    }
   ],
   "source": [
    "text"
   ]
  },
  {
   "cell_type": "code",
   "execution_count": 207,
   "id": "77a7a816-6e56-44e4-8100-7114a4129050",
   "metadata": {},
   "outputs": [],
   "source": [
    "text = pageObj.extractText()"
   ]
  },
  {
   "cell_type": "code",
   "execution_count": 209,
   "id": "5906ceec-2ef7-441a-894c-e2522f33ba88",
   "metadata": {},
   "outputs": [],
   "source": [
    "text = regex.split(text)"
   ]
  },
  {
   "cell_type": "code",
   "execution_count": 210,
   "id": "00afce89-2b66-45a8-99a3-5d2475245759",
   "metadata": {},
   "outputs": [
    {
     "data": {
      "text/plain": [
       "['Account StatementAccount # 5112453515 SAVINGS\\nBranch ALTAMOUNT ROAD MUMBAI',\n",
       " 'Apr 2021 - 16 Mar 2022\\nAman Ashok Maroo\\nCRN XXXXXX462\\n1,Chellaraam House, Carmichael\\nRoad, Off, Peddar Road, Pedda\\nr Road Mumbai\\nMumbai - 400026Nominee registered Aarushi  Maroo\\n# TRANSACTION TRANSACTION DETAILS CHQ / REF NO. DEBIT(₹) CREDIT(₹) BALANCE(₹)',\n",
       " '01 Apr 2021\\n08:37 PMUPI/Pravinbahi\\nhira/109120193228/accountsUPI-109120091639 -150.00 34,000.70',\n",
       " '02 Apr 2021\\n09:47 PMMB:TRANSFER MB-999287966182 -19,000.00 15,000.70',\n",
       " '02 Apr 2021\\n10:57 PMReceived from Mr.  XX6184 IMPS IDFC BANK IMPS-\\n109222940068+50.00 15,050.70',\n",
       " '02 Apr 2021\\n10:58 PMMB:TRANSFER MB-999287944675 -20.00 15,030.70',\n",
       " '02 Apr 2021\\n10:59 PMUPI/SHEEFA JALAL GI/109222657123/UPI UPI-109222409554 -1.00 15,029.70',\n",
       " '03 Apr 2021\\n11:00 AMUPI/KUNAL BHARTIYA\\n/109311102427/thanksUPI-109311719926 +10,000.00 25,029.70',\n",
       " '03 Apr 2021\\n11:17 AMUPI/KRISH SUNIL GAM/109311363859/final UPI-109311907069 -7,000.00 18,029.70',\n",
       " '03 Apr 2021\\n11:17 AMUPI/ZOHA CASTELINO/109311376235/final UPI-109311911298 -1,000.00 17,029.70',\n",
       " '03 Apr 2021\\n08:18 PMReceived from Mr.  XX6184 IMPS IDFC BANK IMPS-\\n109320997385+5,000.00 22,029.70',\n",
       " '03 Apr 2021\\n08:19 PMUPI/SUMAN KUMAR THA/109320497719/hi UPI-109320482779 -175.00 21,854.70',\n",
       " '04 Apr 2021\\n02:40 PMUPI/HITHA PARSHVA B/109414136700/a UPI-109414073062 -400.00 21,454.70',\n",
       " '04 Apr 2021\\n04:49 PMUPI/SHAILESH\\nSHIVAJ/109416908885/accountsUPI-109416164897 -100.00 21,354.70',\n",
       " '04 Apr 2021\\n05:50 PMUPI/RAVISH SRI\\nCHAN/109417322268/accountsUPI-109417787371 -2,500.00 18,854.70',\n",
       " '05 Apr 2021\\n12:18 PMUPI/HIMANSHU\\nRAKESH/109512055163/finalUPI-109512589622 -4,625.00 14,229.70',\n",
       " '05 Apr 2021\\n12:22 PMUPI/ZOHA CASTELINO/109512193345/acc UPI-109512635749 -2,100.00 12,129.70\\nOPENING 34,150.70\\nStatement generated on 16 Mar 2022, 12:01 AM Page 1 of',\n",
       " '']"
      ]
     },
     "execution_count": 210,
     "metadata": {},
     "output_type": "execute_result"
    }
   ],
   "source": [
    "text"
   ]
  },
  {
   "cell_type": "code",
   "execution_count": 180,
   "id": "706f9a21-c532-4d61-bd85-ac045ae2b75f",
   "metadata": {},
   "outputs": [],
   "source": [
    "def find_second_last(text, pattern):\n",
    "    return text.rfind(pattern, 0, text.rfind(pattern))"
   ]
  },
  {
   "cell_type": "code",
   "execution_count": 182,
   "id": "92b6770d-ffd6-4107-9d96-80bfa82cdc89",
   "metadata": {},
   "outputs": [
    {
     "data": {
      "text/plain": [
       "73"
      ]
     },
     "execution_count": 185,
     "metadata": {},
     "output_type": "execute_result"
    }
   ],
   "source": [
    "word"
   ]
  },
  {
   "cell_type": "code",
   "execution_count": 191,
   "id": "32c6bcdf-071f-4f18-a7a0-1d4a8e73e223",
   "metadata": {},
   "outputs": [
    {
     "data": {
      "text/plain": [
       "'UPI/RRS SHARES AND /207417883384/UPI UPI-207400428357'"
      ]
     },
     "execution_count": 191,
     "metadata": {},
     "output_type": "execute_result"
    }
   ],
   "source": [
    "word[20:find_second_last(word, ' ')]"
   ]
  },
  {
   "cell_type": "code",
   "execution_count": 132,
   "id": "b4d40ed4-db91-45b0-a3ae-f078042bdef4",
   "metadata": {},
   "outputs": [
    {
     "data": {
      "text/plain": [
       "['AMAN ASHOK MAROO\\nAccount Statement 01 Apr 2021 - 16 Mar 2022\\n# TRANSACTION TRANSACTION DETAILS CHQ / REF NO. DEBIT(₹) CREDIT(₹) BALANCE(₹)',\n",
       " '10 Mar 2022\\n04:07 AMChrg: AMB Non Maintenance Chrg for Feb-\\n2022TBMS-918336543 -343.80 7,531.68',\n",
       " '10 Mar 2022\\n04:32 AMChrg: AMB Non Maintenance Chrg for Jan-\\n2022TBMS-918285939 -95.79 7,435.89',\n",
       " '10 Mar 2022\\n10:47 AMUPI/Mr NILESH BHOSL/206988924930/UPI UPI-206929637510 -2,000.00 5,435.89',\n",
       " '10 Mar 2022\\n11:26 AMUPI/ASHWIN ALFRED\\nA/206907251062/ShahaanUPI-206930157635 +11,500.00 16,935.89',\n",
       " '10 Mar 2022\\n01:20 PMRecd:IMPS/206913304695/AMAN\\nMAROO/KKBK/X4936/TransIMPS-\\n206913388513+40,000.00 56,935.89',\n",
       " '10 Mar 2022\\n01:23 PMMB TRANSFER                      Ref\\n206913393362IMPS-\\n206913393283-22,500.00 34,435.89',\n",
       " '10 Mar 2022\\n07:17 PMUPI/Mr NILESH BHOSL/206910955768/UPI UPI-206937041869 -323.00 34,112.89',\n",
       " '10 Mar 2022\\n10:08 PMATW/8659/+M. L Dhunakr\\nMargMumbaiMHIN100322/22:08206916380387 -10,000.00 24,112.89',\n",
       " '10 Mar 2022\\n10:08 PMATW/8659/+M. L Dhunakr\\nMargMumbaiMHIN100322/22:08206916380389 -8,000.00 16,112.89',\n",
       " '11 Mar 2022\\n06:31 PMNEFT N070221870934879 CARE HEALTH\\nINS LTD DISBURSNEFTINW-\\n0382632260+11,216.59 27,329.48',\n",
       " '11 Mar 2022\\n08:19 PMUPI/Mr NILESH BHOSL/207034837371/UPI UPI-207052192548 -44.00 27,285.48',\n",
       " '12 Mar 2022\\n07:10 PMUPI/Pravinbahi hira/207152463551/UPI UPI-207164497801 -150.00 27,135.48',\n",
       " '13 Mar 2022\\n05:49 PMUPI/BARKER AND\\nMEOW/207269319975/UPIUPI-207276567172 -699.00 26,436.48',\n",
       " '14 Mar 2022\\n08:40 AMNEFT SIN00101Q0868090 M S BAJAJ\\nALLIANZ LI SCBL00NEFTINW-\\n0383230671+296.00 26,732.48',\n",
       " '14 Mar 2022\\n11:44 AMUPI/AFZAL HUSSAIN S/207381137468/UPI UPI-207385009879 -3,000.00 23,732.48',\n",
       " '14 Mar 2022\\n03:54 PMUPI/LAXMAN\\nSEETARAM/207386044620/UPIUPI-207388479017 -100.00 23,632.48',\n",
       " '15 Mar 2022\\n01:45 PMUPI/RRS SHARES AND /207417883384/UPI UPI-207400428357 -485.00 23,147.48\\nOPENING 34,150.70\\nStatement generated on 16 Mar 2022, 12:01 AM Page 36 of',\n",
       " '']"
      ]
     },
     "execution_count": 132,
     "metadata": {},
     "output_type": "execute_result"
    }
   ],
   "source": [
    "new_text"
   ]
  },
  {
   "cell_type": "code",
   "execution_count": 73,
   "id": "60caa457-ba33-449f-ac44-615b5d75a1f2",
   "metadata": {},
   "outputs": [
    {
     "data": {
      "text/html": [
       "<div>\n",
       "<style scoped>\n",
       "    .dataframe tbody tr th:only-of-type {\n",
       "        vertical-align: middle;\n",
       "    }\n",
       "\n",
       "    .dataframe tbody tr th {\n",
       "        vertical-align: top;\n",
       "    }\n",
       "\n",
       "    .dataframe thead th {\n",
       "        text-align: right;\n",
       "    }\n",
       "</style>\n",
       "<table border=\"1\" class=\"dataframe\">\n",
       "  <thead>\n",
       "    <tr style=\"text-align: right;\">\n",
       "      <th></th>\n",
       "      <th>date</th>\n",
       "      <th>narration</th>\n",
       "    </tr>\n",
       "  </thead>\n",
       "  <tbody>\n",
       "    <tr>\n",
       "      <th>0</th>\n",
       "      <td>10 Mar 2022</td>\n",
       "      <td>04:07 AMChrg: AMB Non Maintenance Chrg for Feb-</td>\n",
       "    </tr>\n",
       "    <tr>\n",
       "      <th>1</th>\n",
       "      <td>10 Mar 2022</td>\n",
       "      <td>04:32 AMChrg: AMB Non Maintenance Chrg for Jan-</td>\n",
       "    </tr>\n",
       "    <tr>\n",
       "      <th>2</th>\n",
       "      <td>10 Mar 2022</td>\n",
       "      <td>10:47 AMUPI/Mr NILESH BHOSL/206988924930/UPI U...</td>\n",
       "    </tr>\n",
       "    <tr>\n",
       "      <th>3</th>\n",
       "      <td>10 Mar 2022</td>\n",
       "      <td>11:26 AMUPI/ASHWIN ALFRED</td>\n",
       "    </tr>\n",
       "    <tr>\n",
       "      <th>4</th>\n",
       "      <td>10 Mar 2022</td>\n",
       "      <td>01:20 PMRecd:IMPS/206913304695/AMAN</td>\n",
       "    </tr>\n",
       "    <tr>\n",
       "      <th>...</th>\n",
       "      <td>...</td>\n",
       "      <td>...</td>\n",
       "    </tr>\n",
       "    <tr>\n",
       "      <th>10</th>\n",
       "      <td>04 Apr 2021</td>\n",
       "      <td>02:40 PMUPI/HITHA PARSHVA B/109414136700/a UPI...</td>\n",
       "    </tr>\n",
       "    <tr>\n",
       "      <th>11</th>\n",
       "      <td>04 Apr 2021</td>\n",
       "      <td>04:49 PMUPI/SHAILESH</td>\n",
       "    </tr>\n",
       "    <tr>\n",
       "      <th>12</th>\n",
       "      <td>04 Apr 2021</td>\n",
       "      <td>05:50 PMUPI/RAVISH SRI</td>\n",
       "    </tr>\n",
       "    <tr>\n",
       "      <th>13</th>\n",
       "      <td>05 Apr 2021</td>\n",
       "      <td>12:18 PMUPI/HIMANSHU</td>\n",
       "    </tr>\n",
       "    <tr>\n",
       "      <th>14</th>\n",
       "      <td>05 Apr 2021</td>\n",
       "      <td>12:22 PMUPI/ZOHA CASTELINO/109512193345/acc UP...</td>\n",
       "    </tr>\n",
       "  </tbody>\n",
       "</table>\n",
       "<p>764 rows × 2 columns</p>\n",
       "</div>"
      ],
      "text/plain": [
       "           date                                          narration\n",
       "0   10 Mar 2022    04:07 AMChrg: AMB Non Maintenance Chrg for Feb-\n",
       "1   10 Mar 2022    04:32 AMChrg: AMB Non Maintenance Chrg for Jan-\n",
       "2   10 Mar 2022  10:47 AMUPI/Mr NILESH BHOSL/206988924930/UPI U...\n",
       "3   10 Mar 2022                          11:26 AMUPI/ASHWIN ALFRED\n",
       "4   10 Mar 2022                01:20 PMRecd:IMPS/206913304695/AMAN\n",
       "..          ...                                                ...\n",
       "10  04 Apr 2021  02:40 PMUPI/HITHA PARSHVA B/109414136700/a UPI...\n",
       "11  04 Apr 2021                               04:49 PMUPI/SHAILESH\n",
       "12  04 Apr 2021                             05:50 PMUPI/RAVISH SRI\n",
       "13  05 Apr 2021                               12:18 PMUPI/HIMANSHU\n",
       "14  05 Apr 2021  12:22 PMUPI/ZOHA CASTELINO/109512193345/acc UP...\n",
       "\n",
       "[764 rows x 2 columns]"
      ]
     },
     "execution_count": 73,
     "metadata": {},
     "output_type": "execute_result"
    }
   ],
   "source": [
    "transaction_block = ['748 10 Mar 2022', '04:07 AMChrg: AMB Non Maintenance Chrg for Feb-', '2022TBMS-918336543 -343.80 7,531.68']"
   ]
  },
  {
   "cell_type": "code",
   "execution_count": 61,
   "id": "80c7361f-a66e-43bc-aa15-45305fce1264",
   "metadata": {},
   "outputs": [
    {
     "data": {
      "text/plain": [
       "'AMAN ASHOK MAROO'"
      ]
     },
     "execution_count": 61,
     "metadata": {},
     "output_type": "execute_result"
    }
   ],
   "source": [
    "word"
   ]
  },
  {
   "cell_type": "code",
   "execution_count": 44,
   "id": "50df2b3e-6475-4e8d-9b5e-396b0a094093",
   "metadata": {},
   "outputs": [],
   "source": [
    "text = pageObj.extractText().split('\\n')"
   ]
  },
  {
   "cell_type": "code",
   "execution_count": 50,
   "id": "8bcd424b-8535-4a12-ad4f-9e6a0948d38b",
   "metadata": {},
   "outputs": [],
   "source": [
    "word = text[10]"
   ]
  },
  {
   "cell_type": "code",
   "execution_count": 51,
   "id": "b3b32385-289a-46f0-bff8-00b49de32c52",
   "metadata": {},
   "outputs": [
    {
     "data": {
      "text/plain": [
       "datetime.datetime(2021, 4, 1, 0, 0)"
      ]
     },
     "execution_count": 51,
     "metadata": {},
     "output_type": "execute_result"
    }
   ],
   "source": [
    "datetime.datetime.strptime(word[-11:], '%d %b %Y')"
   ]
  },
  {
   "cell_type": "code",
   "execution_count": 7,
   "id": "6b74bd11-9add-413a-9535-d979d928ff1a",
   "metadata": {},
   "outputs": [],
   "source": [
    "doc2 = doc"
   ]
  },
  {
   "cell_type": "code",
   "execution_count": 58,
   "id": "52524209-4849-466e-aaf7-cc99104e1283",
   "metadata": {},
   "outputs": [],
   "source": [
    "maroo_files = pd.concat([doc_1, doc2])"
   ]
  },
  {
   "cell_type": "code",
   "execution_count": 59,
   "id": "95847a56-f158-499a-b2e0-2865355ccb50",
   "metadata": {},
   "outputs": [],
   "source": [
    "maroo_files.to_csv('maroo_narrations.csv')"
   ]
  },
  {
   "cell_type": "code",
   "execution_count": 62,
   "id": "47cb626e-96a5-437c-88ca-27d60cea158c",
   "metadata": {},
   "outputs": [],
   "source": [
    "all_files = pd.read_csv('mojek_sample_data_cleaned.csv').iloc[:, 1:]"
   ]
  },
  {
   "cell_type": "code",
   "execution_count": 69,
   "id": "77e88246-74f5-4fd7-b4fb-2b34d97b3194",
   "metadata": {},
   "outputs": [],
   "source": [
    "all_files = all_files.rename(columns={\"Date\": 'date', \"Narration\":'narration'})"
   ]
  },
  {
   "cell_type": "code",
   "execution_count": 73,
   "id": "180192ed-f7d3-4baa-97f1-69fcb084393b",
   "metadata": {},
   "outputs": [],
   "source": [
    "all_files = pd.concat([all_files, maroo_files])"
   ]
  },
  {
   "cell_type": "code",
   "execution_count": 74,
   "id": "85fc7515-e7e2-428e-8dad-e5bb948bef0e",
   "metadata": {},
   "outputs": [],
   "source": [
    "all_files.to_csv('latest_statements.csv')"
   ]
  },
  {
   "cell_type": "code",
   "execution_count": 89,
   "id": "860136c0-f524-4719-9751-f821bf971d50",
   "metadata": {},
   "outputs": [],
   "source": [
    "results = pd.read_csv('../latest_statement_w_label.csv').iloc[:, 1:]"
   ]
  },
  {
   "cell_type": "code",
   "execution_count": 90,
   "id": "21a0a897-07cc-436b-8e15-5baaf8b2fcaa",
   "metadata": {},
   "outputs": [
    {
     "data": {
      "text/plain": [
       "0.29489849036959914"
      ]
     },
     "execution_count": 90,
     "metadata": {},
     "output_type": "execute_result"
    }
   ],
   "source": [
    "len(results.query('label != \"0\"')) / len(results)"
   ]
  },
  {
   "cell_type": "code",
   "execution_count": 92,
   "id": "27fd1e3c-7058-4a6f-b4a2-f0197827b10a",
   "metadata": {},
   "outputs": [
    {
     "data": {
      "text/html": [
       "<div>\n",
       "<style scoped>\n",
       "    .dataframe tbody tr th:only-of-type {\n",
       "        vertical-align: middle;\n",
       "    }\n",
       "\n",
       "    .dataframe tbody tr th {\n",
       "        vertical-align: top;\n",
       "    }\n",
       "\n",
       "    .dataframe thead th {\n",
       "        text-align: right;\n",
       "    }\n",
       "</style>\n",
       "<table border=\"1\" class=\"dataframe\">\n",
       "  <thead>\n",
       "    <tr style=\"text-align: right;\">\n",
       "      <th></th>\n",
       "      <th>narration</th>\n",
       "      <th>label</th>\n",
       "    </tr>\n",
       "  </thead>\n",
       "  <tbody>\n",
       "    <tr>\n",
       "      <th>0</th>\n",
       "      <td>UPI/Razorpay/200584916678/IXIGO Refund Ic</td>\n",
       "      <td>Air Travel</td>\n",
       "    </tr>\n",
       "    <tr>\n",
       "      <th>1</th>\n",
       "      <td>UPI/Razorpay/200584918792/IXIGO Refund Ic</td>\n",
       "      <td>Air Travel</td>\n",
       "    </tr>\n",
       "    <tr>\n",
       "      <th>4</th>\n",
       "      <td>PCD/5527/SPOTIFY SI/2240920005070122/23:19</td>\n",
       "      <td>Streaming</td>\n",
       "    </tr>\n",
       "    <tr>\n",
       "      <th>6</th>\n",
       "      <td>UPI/Paytm Recharge /200943967734/UPI</td>\n",
       "      <td>Bills &amp; Utilities</td>\n",
       "    </tr>\n",
       "    <tr>\n",
       "      <th>12</th>\n",
       "      <td>UPI/AMAZON/201313348209/You are paying</td>\n",
       "      <td>Online Shopping</td>\n",
       "    </tr>\n",
       "    <tr>\n",
       "      <th>14</th>\n",
       "      <td>UPI/Zerodha Broking/201775902031/Kite deposit 03</td>\n",
       "      <td>Equity</td>\n",
       "    </tr>\n",
       "    <tr>\n",
       "      <th>17</th>\n",
       "      <td>UPI/Amazon Pay Indi/201923252483/Refund for your</td>\n",
       "      <td>Online Shopping</td>\n",
       "    </tr>\n",
       "    <tr>\n",
       "      <th>18</th>\n",
       "      <td>UPI/Zerodha/202026470648/476360 Zerodha</td>\n",
       "      <td>Equity</td>\n",
       "    </tr>\n",
       "    <tr>\n",
       "      <th>19</th>\n",
       "      <td>UPI/Zomato Ltd/202387689633/OidZTDUPIC22508</td>\n",
       "      <td>Restaurants</td>\n",
       "    </tr>\n",
       "    <tr>\n",
       "      <th>24</th>\n",
       "      <td>UPI/NoviDigitalEnte/202643496487/Hotstar</td>\n",
       "      <td>Streaming</td>\n",
       "    </tr>\n",
       "    <tr>\n",
       "      <th>25</th>\n",
       "      <td>UPI/BALAJI PROVISIO/202649251421/UPI</td>\n",
       "      <td>Household Expenses</td>\n",
       "    </tr>\n",
       "    <tr>\n",
       "      <th>26</th>\n",
       "      <td>UPI/BIG SAVE SUPER /202649392474/UPI</td>\n",
       "      <td>Household Expenses</td>\n",
       "    </tr>\n",
       "    <tr>\n",
       "      <th>27</th>\n",
       "      <td>UPI/BIG SAVE SUPER /202764355247/UPI</td>\n",
       "      <td>Household Expenses</td>\n",
       "    </tr>\n",
       "    <tr>\n",
       "      <th>33</th>\n",
       "      <td>UPI/AL sham  Restau/203011499637/UPI</td>\n",
       "      <td>Restaurants</td>\n",
       "    </tr>\n",
       "    <tr>\n",
       "      <th>39</th>\n",
       "      <td>ATL/5527/800001/BEHIND SRM UNIVERSITYC030222/1...</td>\n",
       "      <td>Tuition</td>\n",
       "    </tr>\n",
       "    <tr>\n",
       "      <th>40</th>\n",
       "      <td>UPI/TRAVEL FOOD SER/203473584728/Pay To TRAVEL F</td>\n",
       "      <td>Restaurants</td>\n",
       "    </tr>\n",
       "    <tr>\n",
       "      <th>43</th>\n",
       "      <td>PCD/5527/THE LOCAL DINERS/BANGALORE030222/23:25</td>\n",
       "      <td>Restaurants</td>\n",
       "    </tr>\n",
       "    <tr>\n",
       "      <th>45</th>\n",
       "      <td>PCD/5527/GAWKY GOOSE KITCHEN AN/BANGAL050222/2...</td>\n",
       "      <td>Restaurants</td>\n",
       "    </tr>\n",
       "    <tr>\n",
       "      <th>46</th>\n",
       "      <td>PCD/5527/SPOTIFY SI/2240920005070222/23:19</td>\n",
       "      <td>Streaming</td>\n",
       "    </tr>\n",
       "    <tr>\n",
       "      <th>50</th>\n",
       "      <td>UPI/BIG SAVE SUPER /204116367960/UPI</td>\n",
       "      <td>Household Expenses</td>\n",
       "    </tr>\n",
       "    <tr>\n",
       "      <th>51</th>\n",
       "      <td>UPI/SWIGGY/204248136669/food</td>\n",
       "      <td>Restaurants</td>\n",
       "    </tr>\n",
       "    <tr>\n",
       "      <th>52</th>\n",
       "      <td>UPI/AMAZON/204312689225/You are paying</td>\n",
       "      <td>Online Shopping</td>\n",
       "    </tr>\n",
       "    <tr>\n",
       "      <th>53</th>\n",
       "      <td>UPI/BIG SAVE SUPER /204361261570/kirana</td>\n",
       "      <td>Household Expenses</td>\n",
       "    </tr>\n",
       "    <tr>\n",
       "      <th>55</th>\n",
       "      <td>PCD/5527/SM CATERERS AND MARKET/I  Kan140222/1...</td>\n",
       "      <td>Restaurants</td>\n",
       "    </tr>\n",
       "    <tr>\n",
       "      <th>63</th>\n",
       "      <td>ATL/5527/800001/BEHIND SRM UNIVERSITYC180222/1...</td>\n",
       "      <td>Tuition</td>\n",
       "    </tr>\n",
       "    <tr>\n",
       "      <th>64</th>\n",
       "      <td>NEFT N053221030962276 ZERODHA BROKING LIMITED NSE</td>\n",
       "      <td>Equity</td>\n",
       "    </tr>\n",
       "    <tr>\n",
       "      <th>65</th>\n",
       "      <td>UPI/Zerodha Broking/205305912890/Zerodha equity</td>\n",
       "      <td>Equity</td>\n",
       "    </tr>\n",
       "    <tr>\n",
       "      <th>70</th>\n",
       "      <td>PCD/5527/FLYING DUTCHMAN RESTAU/GHAZIA050121/1...</td>\n",
       "      <td>Restaurants</td>\n",
       "    </tr>\n",
       "    <tr>\n",
       "      <th>75</th>\n",
       "      <td>PCD/5527/FLIPKART PAYMENTS/0124305400180121/10:16</td>\n",
       "      <td>Online Shopping</td>\n",
       "    </tr>\n",
       "    <tr>\n",
       "      <th>81</th>\n",
       "      <td>UPI/Facebook India /103113345222/Upi Transaction</td>\n",
       "      <td>Streaming</td>\n",
       "    </tr>\n",
       "    <tr>\n",
       "      <th>84</th>\n",
       "      <td>ATW/5527/Vardaan KhandMakhdoomUPIN030221/19:01</td>\n",
       "      <td>ATM Withdrawal</td>\n",
       "    </tr>\n",
       "    <tr>\n",
       "      <th>86</th>\n",
       "      <td>UPI/AMAZON/103421373235/You are paying</td>\n",
       "      <td>Online Shopping</td>\n",
       "    </tr>\n",
       "    <tr>\n",
       "      <th>88</th>\n",
       "      <td>UPI/Flipkart/103600396181/Payment for OD2</td>\n",
       "      <td>Online Shopping</td>\n",
       "    </tr>\n",
       "    <tr>\n",
       "      <th>89</th>\n",
       "      <td>UPI/BILLDESK/103617578747/SPOTIFY</td>\n",
       "      <td>Streaming</td>\n",
       "    </tr>\n",
       "    <tr>\n",
       "      <th>92</th>\n",
       "      <td>PCI/5527/Freelancer.com/London090221/19:54</td>\n",
       "      <td>Work Expenses</td>\n",
       "    </tr>\n",
       "    <tr>\n",
       "      <th>93</th>\n",
       "      <td>PCI/5527/Freelancer.com/London090221/19:54</td>\n",
       "      <td>Work Expenses</td>\n",
       "    </tr>\n",
       "    <tr>\n",
       "      <th>94</th>\n",
       "      <td>PCI/5527/Freelancer.com/London090221/20:05</td>\n",
       "      <td>Work Expenses</td>\n",
       "    </tr>\n",
       "    <tr>\n",
       "      <th>100</th>\n",
       "      <td>UPI/AMAZON SELLER S/104514635278/UPI</td>\n",
       "      <td>Online Shopping</td>\n",
       "    </tr>\n",
       "    <tr>\n",
       "      <th>107</th>\n",
       "      <td>UPI/PURUSHOTTAM TRY/105718442491/Bitcoin</td>\n",
       "      <td>Crypto</td>\n",
       "    </tr>\n",
       "    <tr>\n",
       "      <th>116</th>\n",
       "      <td>UPI/Spotify India L/108909719230/UPI</td>\n",
       "      <td>Streaming</td>\n",
       "    </tr>\n",
       "    <tr>\n",
       "      <th>121</th>\n",
       "      <td>UPI/AMAZON/109512313316/You are paying</td>\n",
       "      <td>Online Shopping</td>\n",
       "    </tr>\n",
       "    <tr>\n",
       "      <th>123</th>\n",
       "      <td>PCI/5527/Freelancer.com/London070421/07:53</td>\n",
       "      <td>Work Expenses</td>\n",
       "    </tr>\n",
       "    <tr>\n",
       "      <th>125</th>\n",
       "      <td>PCD/5527/TASTE OF NAWABS/LUCKNOW070421/18:51</td>\n",
       "      <td>Restaurants</td>\n",
       "    </tr>\n",
       "    <tr>\n",
       "      <th>126</th>\n",
       "      <td>UPI/Indian Oil Petr/109719711871/UPI</td>\n",
       "      <td>Fuel</td>\n",
       "    </tr>\n",
       "    <tr>\n",
       "      <th>129</th>\n",
       "      <td>UPI/Dominos Pizza/110220703676/UPI</td>\n",
       "      <td>Restaurants</td>\n",
       "    </tr>\n",
       "    <tr>\n",
       "      <th>130</th>\n",
       "      <td>UPI/AMAZON/110315359739/You are paying</td>\n",
       "      <td>Online Shopping</td>\n",
       "    </tr>\n",
       "    <tr>\n",
       "      <th>136</th>\n",
       "      <td>UPI/MYNTRA DESIGNS /111119149478/Upi Transaction</td>\n",
       "      <td>Online Shopping</td>\n",
       "    </tr>\n",
       "    <tr>\n",
       "      <th>139</th>\n",
       "      <td>PCI/5527/Freelancer.com/London260421/20:52</td>\n",
       "      <td>Work Expenses</td>\n",
       "    </tr>\n",
       "    <tr>\n",
       "      <th>148</th>\n",
       "      <td>UPI/Zomato/113012085631/Zomato payment</td>\n",
       "      <td>Restaurants</td>\n",
       "    </tr>\n",
       "    <tr>\n",
       "      <th>149</th>\n",
       "      <td>UPI/AMAZON/113019130516/You are paying</td>\n",
       "      <td>Online Shopping</td>\n",
       "    </tr>\n",
       "  </tbody>\n",
       "</table>\n",
       "</div>"
      ],
      "text/plain": [
       "                                             narration               label\n",
       "0            UPI/Razorpay/200584916678/IXIGO Refund Ic          Air Travel\n",
       "1            UPI/Razorpay/200584918792/IXIGO Refund Ic          Air Travel\n",
       "4           PCD/5527/SPOTIFY SI/2240920005070122/23:19           Streaming\n",
       "6                 UPI/Paytm Recharge /200943967734/UPI   Bills & Utilities\n",
       "12              UPI/AMAZON/201313348209/You are paying     Online Shopping\n",
       "14    UPI/Zerodha Broking/201775902031/Kite deposit 03              Equity\n",
       "17    UPI/Amazon Pay Indi/201923252483/Refund for your     Online Shopping\n",
       "18             UPI/Zerodha/202026470648/476360 Zerodha              Equity\n",
       "19         UPI/Zomato Ltd/202387689633/OidZTDUPIC22508         Restaurants\n",
       "24            UPI/NoviDigitalEnte/202643496487/Hotstar           Streaming\n",
       "25                UPI/BALAJI PROVISIO/202649251421/UPI  Household Expenses\n",
       "26                UPI/BIG SAVE SUPER /202649392474/UPI  Household Expenses\n",
       "27                UPI/BIG SAVE SUPER /202764355247/UPI  Household Expenses\n",
       "33                UPI/AL sham  Restau/203011499637/UPI         Restaurants\n",
       "39   ATL/5527/800001/BEHIND SRM UNIVERSITYC030222/1...             Tuition\n",
       "40    UPI/TRAVEL FOOD SER/203473584728/Pay To TRAVEL F         Restaurants\n",
       "43     PCD/5527/THE LOCAL DINERS/BANGALORE030222/23:25         Restaurants\n",
       "45   PCD/5527/GAWKY GOOSE KITCHEN AN/BANGAL050222/2...         Restaurants\n",
       "46          PCD/5527/SPOTIFY SI/2240920005070222/23:19           Streaming\n",
       "50                UPI/BIG SAVE SUPER /204116367960/UPI  Household Expenses\n",
       "51                        UPI/SWIGGY/204248136669/food         Restaurants\n",
       "52              UPI/AMAZON/204312689225/You are paying     Online Shopping\n",
       "53             UPI/BIG SAVE SUPER /204361261570/kirana  Household Expenses\n",
       "55   PCD/5527/SM CATERERS AND MARKET/I  Kan140222/1...         Restaurants\n",
       "63   ATL/5527/800001/BEHIND SRM UNIVERSITYC180222/1...             Tuition\n",
       "64   NEFT N053221030962276 ZERODHA BROKING LIMITED NSE              Equity\n",
       "65     UPI/Zerodha Broking/205305912890/Zerodha equity              Equity\n",
       "70   PCD/5527/FLYING DUTCHMAN RESTAU/GHAZIA050121/1...         Restaurants\n",
       "75   PCD/5527/FLIPKART PAYMENTS/0124305400180121/10:16     Online Shopping\n",
       "81    UPI/Facebook India /103113345222/Upi Transaction           Streaming\n",
       "84      ATW/5527/Vardaan KhandMakhdoomUPIN030221/19:01      ATM Withdrawal\n",
       "86              UPI/AMAZON/103421373235/You are paying     Online Shopping\n",
       "88           UPI/Flipkart/103600396181/Payment for OD2     Online Shopping\n",
       "89                   UPI/BILLDESK/103617578747/SPOTIFY           Streaming\n",
       "92          PCI/5527/Freelancer.com/London090221/19:54       Work Expenses\n",
       "93          PCI/5527/Freelancer.com/London090221/19:54       Work Expenses\n",
       "94          PCI/5527/Freelancer.com/London090221/20:05       Work Expenses\n",
       "100               UPI/AMAZON SELLER S/104514635278/UPI     Online Shopping\n",
       "107           UPI/PURUSHOTTAM TRY/105718442491/Bitcoin              Crypto\n",
       "116               UPI/Spotify India L/108909719230/UPI           Streaming\n",
       "121             UPI/AMAZON/109512313316/You are paying     Online Shopping\n",
       "123         PCI/5527/Freelancer.com/London070421/07:53       Work Expenses\n",
       "125       PCD/5527/TASTE OF NAWABS/LUCKNOW070421/18:51         Restaurants\n",
       "126               UPI/Indian Oil Petr/109719711871/UPI                Fuel\n",
       "129                 UPI/Dominos Pizza/110220703676/UPI         Restaurants\n",
       "130             UPI/AMAZON/110315359739/You are paying     Online Shopping\n",
       "136   UPI/MYNTRA DESIGNS /111119149478/Upi Transaction     Online Shopping\n",
       "139         PCI/5527/Freelancer.com/London260421/20:52       Work Expenses\n",
       "148             UPI/Zomato/113012085631/Zomato payment         Restaurants\n",
       "149             UPI/AMAZON/113019130516/You are paying     Online Shopping"
      ]
     },
     "execution_count": 92,
     "metadata": {},
     "output_type": "execute_result"
    }
   ],
   "source": [
    "results.query('label != \"0\"')[[\"narration\", \"label\"]].head(50)"
   ]
  },
  {
   "cell_type": "code",
   "execution_count": null,
   "id": "521bcfe3-420f-4fb2-9347-cab19bbafe21",
   "metadata": {},
   "outputs": [],
   "source": []
  }
 ],
 "metadata": {
  "kernelspec": {
   "display_name": "Python 3 (ipykernel)",
   "language": "python",
   "name": "python3"
  },
  "language_info": {
   "codemirror_mode": {
    "name": "ipython",
    "version": 3
   },
   "file_extension": ".py",
   "mimetype": "text/x-python",
   "name": "python",
   "nbconvert_exporter": "python",
   "pygments_lexer": "ipython3",
   "version": "3.9.0"
  }
 },
 "nbformat": 4,
 "nbformat_minor": 5
}
