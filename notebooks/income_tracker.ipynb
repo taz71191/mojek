{
 "cells": [
  {
   "cell_type": "code",
   "execution_count": 7,
   "id": "2217dd90-de24-418e-b600-274fd666145f",
   "metadata": {},
   "outputs": [],
   "source": [
    "import spacy\n",
    "import os"
   ]
  },
  {
   "cell_type": "code",
   "execution_count": 9,
   "id": "78388e59-90f4-4385-ac6b-49e3425a584a",
   "metadata": {},
   "outputs": [
    {
     "data": {
      "text/plain": [
       "'/Users/murtazavahanvaty/OneDrive - Cornerstone Capabilities/Personal/mojek/notebooks'"
      ]
     },
     "execution_count": 9,
     "metadata": {},
     "output_type": "execute_result"
    }
   ],
   "source": [
    "os.getcwd()"
   ]
  },
  {
   "cell_type": "code",
   "execution_count": 122,
   "id": "c0ab0f9a-a71b-4829-8ad5-72eb2738b0bb",
   "metadata": {},
   "outputs": [
    {
     "name": "stderr",
     "output_type": "stream",
     "text": [
      "/Users/murtazavahanvaty/.local/share/virtualenvs/mojek-o2ilTHmI/lib/python3.9/site-packages/spacy/util.py:865: UserWarning: [W095] Model 'en_core_web_sm' (3.2.0) was trained with spaCy v3.2 and may not be 100% compatible with the current version (3.4.1). If you see errors or degraded performance, download a newer compatible model or retrain your custom model with the current spaCy version. For more details and available updates, run: python -m spacy validate\n",
      "  warnings.warn(warn_msg)\n"
     ]
    }
   ],
   "source": [
    "nlp_expense = spacy.load(\"/Users/murtazavahanvaty/OneDrive - Cornerstone Capabilities/Personal/mojek/mojek_pipeline\")\n",
    "nlp_income = spacy.load(\"/Users/murtazavahanvaty/OneDrive - Cornerstone Capabilities/Personal/mojek/mojek_pipeline\")"
   ]
  },
  {
   "cell_type": "code",
   "execution_count": 123,
   "id": "3579a4c3-5b72-4126-99f4-cd27d5773178",
   "metadata": {},
   "outputs": [
    {
     "data": {
      "text/plain": [
       "['ner']"
      ]
     },
     "execution_count": 123,
     "metadata": {},
     "output_type": "execute_result"
    }
   ],
   "source": [
    "nlp_income.disable_pipes('ner')"
   ]
  },
  {
   "cell_type": "code",
   "execution_count": 124,
   "id": "4ed2a921-9fd8-456a-acda-1c4f863b8f1f",
   "metadata": {},
   "outputs": [
    {
     "data": {
      "text/plain": [
       "('entity_ruler', <spacy.pipeline.entityruler.EntityRuler at 0x125aa5980>)"
      ]
     },
     "execution_count": 124,
     "metadata": {},
     "output_type": "execute_result"
    }
   ],
   "source": [
    "\n",
    "nlp_income.remove_pipe('entity_ruler')"
   ]
  },
  {
   "cell_type": "code",
   "execution_count": 125,
   "id": "029a5751-1232-4d77-9077-7de224590360",
   "metadata": {},
   "outputs": [
    {
     "data": {
      "text/plain": [
       "<spacy.pipeline.entityruler.EntityRuler at 0x12471b5c0>"
      ]
     },
     "execution_count": 125,
     "metadata": {},
     "output_type": "execute_result"
    }
   ],
   "source": [
    "nlp_income.add_pipe(\"entity_ruler\").from_disk(\"/Users/murtazavahanvaty/OneDrive - Cornerstone Capabilities/Personal/mojek/mojek_service/patterns.jsonl\")"
   ]
  },
  {
   "cell_type": "code",
   "execution_count": 126,
   "id": "0c978aba-677f-4234-96c9-dd2634510985",
   "metadata": {},
   "outputs": [
    {
     "data": {
      "text/plain": [
       "uber"
      ]
     },
     "execution_count": 126,
     "metadata": {},
     "output_type": "execute_result"
    }
   ],
   "source": [
    "nlp_expense('uber')"
   ]
  },
  {
   "cell_type": "code",
   "execution_count": 127,
   "id": "1bf13ad8-65dd-4087-8bf7-1897c9a1ebbe",
   "metadata": {},
   "outputs": [
    {
     "data": {
      "text/plain": [
       "(imps/12313,)"
      ]
     },
     "execution_count": 127,
     "metadata": {},
     "output_type": "execute_result"
    }
   ],
   "source": [
    "nlp_income('imps/12313/LDKNVW').ents"
   ]
  },
  {
   "cell_type": "code",
   "execution_count": 128,
   "id": "b69ad5f5-40e5-4b02-9bee-6a3a1497cc6f",
   "metadata": {},
   "outputs": [
    {
     "data": {
      "text/plain": [
       "(upi/12/313, upi/)"
      ]
     },
     "execution_count": 128,
     "metadata": {},
     "output_type": "execute_result"
    }
   ],
   "source": [
    "nlp_income('upi/12/313/upi/').ents"
   ]
  },
  {
   "cell_type": "code",
   "execution_count": 129,
   "id": "5ee9d907-690c-4607-a498-fed1ab30650b",
   "metadata": {},
   "outputs": [
    {
     "name": "stdout",
     "output_type": "stream",
     "text": [
      "['tok2vec', 'tagger', 'parser', 'attribute_ruler', 'lemmatizer', 'entity_ruler']\n"
     ]
    }
   ],
   "source": [
    "print(nlp_income.pipe_names)"
   ]
  },
  {
   "cell_type": "code",
   "execution_count": 100,
   "id": "27a64fac-a0e5-4973-8ae0-a18714c8f8a6",
   "metadata": {},
   "outputs": [],
   "source": [
    "import re"
   ]
  },
  {
   "cell_type": "code",
   "execution_count": 101,
   "id": "fe814601-186a-4ca3-a6d6-4a17bc5bc349",
   "metadata": {},
   "outputs": [],
   "source": [
    "regex = re.compile(\"^imps/[0-9]+/\")"
   ]
  },
  {
   "cell_type": "code",
   "execution_count": 104,
   "id": "cfff69c5-2493-423f-952f-1b4d490082cc",
   "metadata": {},
   "outputs": [],
   "source": [
    "text = 'imps/12313/LDKNVW/'"
   ]
  },
  {
   "cell_type": "code",
   "execution_count": 106,
   "id": "16c36153-ed01-4556-9a81-88552f338267",
   "metadata": {},
   "outputs": [],
   "source": [
    "found = regex.search(text)"
   ]
  },
  {
   "cell_type": "code",
   "execution_count": 108,
   "id": "2feddddb-150a-4927-ba6f-f25b68611532",
   "metadata": {},
   "outputs": [
    {
     "data": {
      "text/plain": [
       "'imps/12313/'"
      ]
     },
     "execution_count": 108,
     "metadata": {},
     "output_type": "execute_result"
    }
   ],
   "source": [
    "text[found.start(): found.end()]"
   ]
  },
  {
   "cell_type": "code",
   "execution_count": null,
   "id": "d51e0b31-468d-480a-8f61-cd6e34b8c42a",
   "metadata": {},
   "outputs": [],
   "source": []
  }
 ],
 "metadata": {
  "kernelspec": {
   "display_name": "Python 3 (ipykernel)",
   "language": "python",
   "name": "python3"
  },
  "language_info": {
   "codemirror_mode": {
    "name": "ipython",
    "version": 3
   },
   "file_extension": ".py",
   "mimetype": "text/x-python",
   "name": "python",
   "nbconvert_exporter": "python",
   "pygments_lexer": "ipython3",
   "version": "3.9.0"
  }
 },
 "nbformat": 4,
 "nbformat_minor": 5
}
