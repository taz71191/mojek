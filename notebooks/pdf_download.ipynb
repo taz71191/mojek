{
 "cells": [
  {
   "cell_type": "code",
   "execution_count": 34,
   "id": "735508d1-f7ef-4bd7-b015-6ac130bf6c62",
   "metadata": {},
   "outputs": [],
   "source": [
    "import boto3\n",
    "import os\n",
    "from io import StringIO\n",
    "import re"
   ]
  },
  {
   "cell_type": "code",
   "execution_count": 5,
   "id": "93642949-28ab-4c89-9d5f-8d8609e5ac77",
   "metadata": {},
   "outputs": [],
   "source": [
    "def download_file(file_name):\n",
    "    s3 = boto3.client('s3', aws_access_key_id=AWS_ACCESS_KEY , aws_secret_access_key=AWS_SECRET_KEY)\n",
    "    with open(file_name, 'wb') as f:\n",
    "        s3.download_fileobj(AWS_BUCKET_NAME, file_name, f)\n",
    "    return file_name"
   ]
  },
  {
   "cell_type": "code",
   "execution_count": 58,
   "id": "5ad87aee-fa1a-4627-9dde-daf54089623e",
   "metadata": {},
   "outputs": [],
   "source": [
    "def list_all_files():\n",
    "    s3 = boto3.client('s3', aws_access_key_id=AWS_ACCESS_KEY , aws_secret_access_key=AWS_SECRET_KEY)\n",
    "    for key in s3.list_objects(Bucket=AWS_BUCKET_NAME)['Contents']:\n",
    "        print(key['Key'])"
   ]
  },
  {
   "cell_type": "code",
   "execution_count": 8,
   "id": "ba3cb565-c710-4e49-84c6-e175c4e68506",
   "metadata": {},
   "outputs": [],
   "source": [
    "AWS_BUCKET_NAME = os.getenv(\"AWS_BUCKET_NAME\",\"\")\n",
    "AWS_BUCKET_REGION = os.getenv(\"AWS_BUCKET_REGION\",\"\")\n",
    "AWS_ACCESS_KEY = os.getenv(\"AWS_ACCESS_KEY\",\"\")\n",
    "AWS_SECRET_KEY = os.getenv(\"AWS_SECRET_KEY\",\"\")"
   ]
  },
  {
   "cell_type": "code",
   "execution_count": 59,
   "id": "e2ad15a6-ae15-4e0a-9eaf-243252139d3f",
   "metadata": {},
   "outputs": [],
   "source": [
    "for key in s3.list_objects(Bucket=AWS_BUCKET_NAME)['Contents']:\n",
    "    # print(key['Key'])\n",
    "    file = download_file(key['Key'])"
   ]
  },
  {
   "cell_type": "code",
   "execution_count": 11,
   "id": "1f0803e9-5798-40da-8be2-85ab915c7f32",
   "metadata": {},
   "outputs": [],
   "source": [
    "file = download_file('file-1660292781777.csv')"
   ]
  },
  {
   "cell_type": "code",
   "execution_count": 17,
   "id": "acbacb3b-03ef-4bb1-948d-d821cc17bfff",
   "metadata": {},
   "outputs": [],
   "source": [
    "df = pd.read_csv(file, skiprows=[i for i in range(12)]).iloc[:,1:-1]"
   ]
  },
  {
   "cell_type": "code",
   "execution_count": 25,
   "id": "b1099eb5-30a5-4fcf-ad43-258024fd8560",
   "metadata": {
    "collapsed": true,
    "jupyter": {
     "outputs_hidden": true
    },
    "tags": []
   },
   "outputs": [
    {
     "name": "stderr",
     "output_type": "stream",
     "text": [
      "/var/folders/z4/xthkrwwd73152yyzx3_s5p5c0000gn/T/ipykernel_3846/588647603.py:1: FutureWarning: The error_bad_lines argument has been deprecated and will be removed in a future version. Use on_bad_lines in the future.\n",
      "\n",
      "\n",
      "  pd.read_csv(file, skiprows=[0], nrows=12, error_bad_lines=False)\n",
      "b'Skipping line 13: expected 6 fields, saw 9\\nSkipping line 14: expected 6 fields, saw 9\\nSkipping line 15: expected 6 fields, saw 9\\nSkipping line 16: expected 6 fields, saw 9\\nSkipping line 17: expected 6 fields, saw 9\\nSkipping line 18: expected 6 fields, saw 9\\nSkipping line 19: expected 6 fields, saw 9\\nSkipping line 20: expected 6 fields, saw 9\\nSkipping line 21: expected 6 fields, saw 9\\nSkipping line 22: expected 6 fields, saw 9\\nSkipping line 23: expected 6 fields, saw 9\\nSkipping line 24: expected 6 fields, saw 9\\nSkipping line 25: expected 6 fields, saw 9\\nSkipping line 26: expected 6 fields, saw 9\\nSkipping line 27: expected 6 fields, saw 9\\nSkipping line 28: expected 6 fields, saw 9\\nSkipping line 29: expected 6 fields, saw 9\\nSkipping line 30: expected 6 fields, saw 9\\nSkipping line 31: expected 6 fields, saw 9\\nSkipping line 32: expected 6 fields, saw 9\\nSkipping line 33: expected 6 fields, saw 9\\nSkipping line 34: expected 6 fields, saw 9\\nSkipping line 35: expected 6 fields, saw 9\\nSkipping line 36: expected 6 fields, saw 9\\nSkipping line 37: expected 6 fields, saw 9\\nSkipping line 38: expected 6 fields, saw 9\\nSkipping line 39: expected 6 fields, saw 9\\nSkipping line 40: expected 6 fields, saw 9\\nSkipping line 41: expected 6 fields, saw 9\\nSkipping line 42: expected 6 fields, saw 9\\nSkipping line 43: expected 6 fields, saw 9\\nSkipping line 44: expected 6 fields, saw 9\\nSkipping line 45: expected 6 fields, saw 9\\nSkipping line 46: expected 6 fields, saw 9\\nSkipping line 47: expected 6 fields, saw 9\\nSkipping line 48: expected 6 fields, saw 9\\nSkipping line 49: expected 6 fields, saw 9\\nSkipping line 50: expected 6 fields, saw 9\\nSkipping line 51: expected 6 fields, saw 9\\nSkipping line 52: expected 6 fields, saw 9\\nSkipping line 53: expected 6 fields, saw 9\\nSkipping line 54: expected 6 fields, saw 9\\nSkipping line 55: expected 6 fields, saw 9\\nSkipping line 56: expected 6 fields, saw 9\\nSkipping line 57: expected 6 fields, saw 9\\nSkipping line 58: expected 6 fields, saw 9\\nSkipping line 59: expected 6 fields, saw 9\\nSkipping line 60: expected 6 fields, saw 9\\nSkipping line 61: expected 6 fields, saw 9\\nSkipping line 62: expected 6 fields, saw 9\\nSkipping line 63: expected 6 fields, saw 9\\nSkipping line 64: expected 6 fields, saw 9\\nSkipping line 65: expected 6 fields, saw 9\\nSkipping line 66: expected 6 fields, saw 9\\nSkipping line 67: expected 6 fields, saw 9\\nSkipping line 68: expected 6 fields, saw 9\\nSkipping line 69: expected 6 fields, saw 9\\nSkipping line 70: expected 6 fields, saw 9\\nSkipping line 71: expected 6 fields, saw 9\\nSkipping line 72: expected 6 fields, saw 9\\nSkipping line 73: expected 6 fields, saw 9\\nSkipping line 74: expected 6 fields, saw 9\\nSkipping line 75: expected 6 fields, saw 9\\nSkipping line 76: expected 6 fields, saw 9\\nSkipping line 77: expected 6 fields, saw 9\\nSkipping line 78: expected 6 fields, saw 9\\nSkipping line 79: expected 6 fields, saw 9\\nSkipping line 80: expected 6 fields, saw 9\\nSkipping line 81: expected 6 fields, saw 9\\nSkipping line 82: expected 6 fields, saw 9\\nSkipping line 83: expected 6 fields, saw 9\\nSkipping line 84: expected 6 fields, saw 9\\nSkipping line 85: expected 6 fields, saw 9\\nSkipping line 86: expected 6 fields, saw 9\\nSkipping line 87: expected 6 fields, saw 9\\nSkipping line 88: expected 6 fields, saw 9\\nSkipping line 89: expected 6 fields, saw 9\\nSkipping line 90: expected 6 fields, saw 9\\nSkipping line 91: expected 6 fields, saw 9\\nSkipping line 92: expected 6 fields, saw 9\\nSkipping line 93: expected 6 fields, saw 9\\nSkipping line 94: expected 6 fields, saw 9\\nSkipping line 95: expected 6 fields, saw 9\\nSkipping line 96: expected 6 fields, saw 9\\nSkipping line 97: expected 6 fields, saw 9\\nSkipping line 98: expected 6 fields, saw 9\\nSkipping line 99: expected 6 fields, saw 9\\nSkipping line 100: expected 6 fields, saw 9\\nSkipping line 101: expected 6 fields, saw 9\\nSkipping line 102: expected 6 fields, saw 9\\nSkipping line 103: expected 6 fields, saw 9\\nSkipping line 104: expected 6 fields, saw 9\\nSkipping line 105: expected 6 fields, saw 9\\nSkipping line 106: expected 6 fields, saw 9\\nSkipping line 107: expected 6 fields, saw 9\\nSkipping line 108: expected 6 fields, saw 9\\nSkipping line 109: expected 6 fields, saw 9\\nSkipping line 110: expected 6 fields, saw 9\\nSkipping line 111: expected 6 fields, saw 9\\nSkipping line 112: expected 6 fields, saw 9\\nSkipping line 113: expected 6 fields, saw 9\\nSkipping line 114: expected 6 fields, saw 9\\nSkipping line 115: expected 6 fields, saw 9\\nSkipping line 116: expected 6 fields, saw 9\\nSkipping line 117: expected 6 fields, saw 9\\nSkipping line 118: expected 6 fields, saw 9\\nSkipping line 119: expected 6 fields, saw 9\\nSkipping line 120: expected 6 fields, saw 9\\nSkipping line 121: expected 6 fields, saw 9\\nSkipping line 122: expected 6 fields, saw 9\\nSkipping line 123: expected 6 fields, saw 9\\nSkipping line 124: expected 6 fields, saw 9\\nSkipping line 125: expected 6 fields, saw 9\\nSkipping line 126: expected 6 fields, saw 9\\nSkipping line 127: expected 6 fields, saw 9\\nSkipping line 128: expected 6 fields, saw 9\\n'\n"
     ]
    },
    {
     "data": {
      "text/html": [
       "<div>\n",
       "<style scoped>\n",
       "    .dataframe tbody tr th:only-of-type {\n",
       "        vertical-align: middle;\n",
       "    }\n",
       "\n",
       "    .dataframe tbody tr th {\n",
       "        vertical-align: top;\n",
       "    }\n",
       "\n",
       "    .dataframe thead th {\n",
       "        text-align: right;\n",
       "    }\n",
       "</style>\n",
       "<table border=\"1\" class=\"dataframe\">\n",
       "  <thead>\n",
       "    <tr style=\"text-align: right;\">\n",
       "      <th></th>\n",
       "      <th></th>\n",
       "      <th></th>\n",
       "      <th></th>\n",
       "      <th></th>\n",
       "      <th>AADITYA SAXENA</th>\n",
       "    </tr>\n",
       "  </thead>\n",
       "  <tbody>\n",
       "    <tr>\n",
       "      <th>Flat No. GW   101,E - Block, S</th>\n",
       "      <th>NaN</th>\n",
       "      <th>NaN</th>\n",
       "      <th>NaN</th>\n",
       "      <th>Cust. Reln. No.</th>\n",
       "      <td>422838139</td>\n",
       "    </tr>\n",
       "    <tr>\n",
       "      <th>ector 1, Green Wood Apartment,</th>\n",
       "      <th>NaN</th>\n",
       "      <th>NaN</th>\n",
       "      <th>NaN</th>\n",
       "      <th>Account No.</th>\n",
       "      <td>2215163693</td>\n",
       "    </tr>\n",
       "    <tr>\n",
       "      <th>Gomti Nagar Extensi Gomtinagar</th>\n",
       "      <th>NaN</th>\n",
       "      <th>NaN</th>\n",
       "      <th>NaN</th>\n",
       "      <th>Period</th>\n",
       "      <td>From 04/05/2022 To 04/08/2022</td>\n",
       "    </tr>\n",
       "    <tr>\n",
       "      <th>Lucknow</th>\n",
       "      <th>NaN</th>\n",
       "      <th>NaN</th>\n",
       "      <th>NaN</th>\n",
       "      <th>Currency</th>\n",
       "      <td>INR</td>\n",
       "    </tr>\n",
       "    <tr>\n",
       "      <th>Uttar Pradesh</th>\n",
       "      <th>NaN</th>\n",
       "      <th>NaN</th>\n",
       "      <th>NaN</th>\n",
       "      <th>Branch</th>\n",
       "      <td>GOMTI NAGAR LUCKNOW</td>\n",
       "    </tr>\n",
       "    <tr>\n",
       "      <th>India</th>\n",
       "      <th>NaN</th>\n",
       "      <th>NaN</th>\n",
       "      <th>NaN</th>\n",
       "      <th>Nomination Regd</th>\n",
       "      <td>Y</td>\n",
       "    </tr>\n",
       "    <tr>\n",
       "      <th>226010</th>\n",
       "      <th>NaN</th>\n",
       "      <th>NaN</th>\n",
       "      <th>NaN</th>\n",
       "      <th>Nominee Name</th>\n",
       "      <td>KULDEEP  SAXENA</td>\n",
       "    </tr>\n",
       "    <tr>\n",
       "      <th rowspan=\"3\" valign=\"top\">NaN</th>\n",
       "      <th rowspan=\"3\" valign=\"top\">NaN</th>\n",
       "      <th rowspan=\"3\" valign=\"top\">NaN</th>\n",
       "      <th rowspan=\"3\" valign=\"top\">NaN</th>\n",
       "      <th>Joint Holder(S)</th>\n",
       "      <td>NaN</td>\n",
       "    </tr>\n",
       "    <tr>\n",
       "      <th>NaN</th>\n",
       "      <td>NaN</td>\n",
       "    </tr>\n",
       "    <tr>\n",
       "      <th>NaN</th>\n",
       "      <td>NaN</td>\n",
       "    </tr>\n",
       "    <tr>\n",
       "      <th>Opening balance</th>\n",
       "      <th>as on 04/05/2022   INR 2,23,480.33</th>\n",
       "      <th>NaN</th>\n",
       "      <th>NaN</th>\n",
       "      <th>NaN</th>\n",
       "      <td>NaN</td>\n",
       "    </tr>\n",
       "    <tr>\n",
       "      <th>Closing balance</th>\n",
       "      <th>as on 04/08/2022   INR 51,055.35</th>\n",
       "      <th>NaN</th>\n",
       "      <th>NaN</th>\n",
       "      <th>NaN</th>\n",
       "      <td>NaN</td>\n",
       "    </tr>\n",
       "  </tbody>\n",
       "</table>\n",
       "</div>"
      ],
      "text/plain": [
       "                                                                                                          AADITYA SAXENA\n",
       "Flat No. GW   101,E - Block, S NaN                                NaN NaN Cust. Reln. No.                      422838139\n",
       "ector 1, Green Wood Apartment, NaN                                NaN NaN Account No.                         2215163693\n",
       "Gomti Nagar Extensi Gomtinagar NaN                                NaN NaN Period           From 04/05/2022 To 04/08/2022\n",
       "Lucknow                        NaN                                NaN NaN Currency                                   INR\n",
       "Uttar Pradesh                  NaN                                NaN NaN Branch                     GOMTI NAGAR LUCKNOW\n",
       "India                          NaN                                NaN NaN Nomination Regd                              Y\n",
       "226010                         NaN                                NaN NaN Nominee Name                   KULDEEP  SAXENA\n",
       "NaN                            NaN                                NaN NaN Joint Holder(S)                            NaN\n",
       "                                                                          NaN                                        NaN\n",
       "                                                                          NaN                                        NaN\n",
       "Opening balance                as on 04/05/2022   INR 2,23,480.33 NaN NaN NaN                                        NaN\n",
       "Closing balance                as on 04/08/2022   INR 51,055.35   NaN NaN NaN                                        NaN"
      ]
     },
     "execution_count": 25,
     "metadata": {},
     "output_type": "execute_result"
    }
   ],
   "source": [
    "pd.read_csv(file, skiprows=[0], nrows=12, error_bad_lines=False)"
   ]
  },
  {
   "cell_type": "code",
   "execution_count": 35,
   "id": "74b9cdc7-2a19-48dc-936e-192111223c88",
   "metadata": {},
   "outputs": [],
   "source": [
    "regex = re.compile('Account No.,[0-9]{10}')"
   ]
  },
  {
   "cell_type": "code",
   "execution_count": 36,
   "id": "34c35f07-21f6-4a8d-92a7-aa0ef4cd998b",
   "metadata": {},
   "outputs": [],
   "source": [
    "with open('file-1660292781777.csv') as f:\n",
    "    text = ''.join(f.readlines())"
   ]
  },
  {
   "cell_type": "code",
   "execution_count": 60,
   "id": "3ba7b9d1-6eef-45f3-a857-9b49bef4a340",
   "metadata": {},
   "outputs": [],
   "source": [
    "from PyPDF2 import PdfFileReader"
   ]
  },
  {
   "cell_type": "code",
   "execution_count": 63,
   "id": "3d1d0a56-8a34-4ccd-9435-19cf29a95219",
   "metadata": {},
   "outputs": [],
   "source": [
    "with open('file-1660286638435.pdf', 'rb') as pdfFileObj:\n",
    "    pdfReader = PdfFileReader(pdfFileObj)\n",
    "    doc = []\n",
    "    #Loop through each page and parse narrations\n",
    "    for page_number in range(pdfReader.numPages):\n",
    "        pageObj = pdfReader.getPage(page_number)\n",
    "        text = pageObj.extractText()\n",
    "        break"
   ]
  },
  {
   "cell_type": "code",
   "execution_count": 74,
   "id": "4c961c1c-2275-4a2d-8d8f-9e0fe63b1581",
   "metadata": {},
   "outputs": [],
   "source": [
    "regex = re.compile('Account # [0-9]{10}.')"
   ]
  },
  {
   "cell_type": "code",
   "execution_count": 75,
   "id": "8f6d34c7-9ecb-4fba-82e2-cffd164ae9bc",
   "metadata": {},
   "outputs": [],
   "source": [
    "acc_number = regex.search(text)"
   ]
  },
  {
   "cell_type": "code",
   "execution_count": 76,
   "id": "35890d8e-36b2-4207-b9e3-fd4de8178d88",
   "metadata": {},
   "outputs": [
    {
     "data": {
      "text/plain": [
       "'Account # 5112453515 '"
      ]
     },
     "execution_count": 76,
     "metadata": {},
     "output_type": "execute_result"
    }
   ],
   "source": [
    "text[acc_number.start(): acc_number.end()]"
   ]
  },
  {
   "cell_type": "code",
   "execution_count": 78,
   "id": "a95cda28-fb82-4c8b-9487-7ec3c4c43488",
   "metadata": {},
   "outputs": [
    {
     "data": {
      "text/plain": [
       "'SAVINGS'"
      ]
     },
     "execution_count": 78,
     "metadata": {},
     "output_type": "execute_result"
    }
   ],
   "source": [
    "text[acc_number.end():].split('\\n')[0]"
   ]
  },
  {
   "cell_type": "code",
   "execution_count": null,
   "id": "45eafd4b-a9da-4b5b-baf1-4080b79acbc3",
   "metadata": {},
   "outputs": [],
   "source": []
  }
 ],
 "metadata": {
  "kernelspec": {
   "display_name": "Python 3 (ipykernel)",
   "language": "python",
   "name": "python3"
  },
  "language_info": {
   "codemirror_mode": {
    "name": "ipython",
    "version": 3
   },
   "file_extension": ".py",
   "mimetype": "text/x-python",
   "name": "python",
   "nbconvert_exporter": "python",
   "pygments_lexer": "ipython3",
   "version": "3.9.0"
  }
 },
 "nbformat": 4,
 "nbformat_minor": 5
}
